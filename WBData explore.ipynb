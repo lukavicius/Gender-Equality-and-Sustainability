{
 "cells": [
  {
   "cell_type": "markdown",
   "id": "9239d4fb-947a-4447-9171-709de77f5876",
   "metadata": {},
   "source": [
    "# HEllloooo"
   ]
  },
  {
   "cell_type": "markdown",
   "id": "43db42c5-c6fa-4f4b-801e-d35d24903485",
   "metadata": {},
   "source": [
    "Install wbdata, only needs to be run once even if u leave the notebook"
   ]
  },
  {
   "cell_type": "code",
   "execution_count": null,
   "id": "4b8dca30-c5de-4894-94f3-c30e9a164e5c",
   "metadata": {},
   "outputs": [],
   "source": [
    "import sys\n",
    "!{sys.executable} -m pip install wbdata"
   ]
  },
  {
   "cell_type": "code",
   "execution_count": 1,
   "id": "301757a3-6e98-4352-ba9f-86eacd899a44",
   "metadata": {},
   "outputs": [],
   "source": [
    "# Suppresses warning errors, there are too many of them there about caches from wbdata\n",
    "import logging\n",
    "logging.getLogger(\"shelved_cache.persistent_cache\").setLevel(logging.ERROR)"
   ]
  },
  {
   "cell_type": "markdown",
   "id": "b832daf2-8c56-4d4a-9eca-db08dceab49b",
   "metadata": {},
   "source": [
    "Listing the names of the datasets"
   ]
  },
  {
   "cell_type": "code",
   "execution_count": 2,
   "id": "76abc1a4-deec-4dd4-831d-0a14058e7672",
   "metadata": {},
   "outputs": [
    {
     "data": {
      "text/plain": [
       "  id  name\n",
       "----  --------------------------------------------------------------------\n",
       "   1  Doing Business\n",
       "   2  World Development Indicators\n",
       "   3  Worldwide Governance Indicators\n",
       "   5  Subnational Malnutrition Database\n",
       "   6  International Debt Statistics\n",
       "  11  Africa Development Indicators\n",
       "  12  Education Statistics\n",
       "  13  Enterprise Surveys\n",
       "  14  Gender Statistics\n",
       "  15  Global Economic Monitor\n",
       "  16  Health Nutrition and Population Statistics\n",
       "  18  IDA Results Measurement System\n",
       "  19  Millennium Development Goals\n",
       "  20  Quarterly Public Sector Debt\n",
       "  22  Quarterly External Debt Statistics SDDS\n",
       "  23  Quarterly External Debt Statistics GDDS\n",
       "  25  Jobs\n",
       "  27  Global Economic Prospects\n",
       "  28  Global Findex database\n",
       "  29  The Atlas of Social Protection: Indicators of Resilience and Equity\n",
       "  30  Exporter Dynamics Database – Indicators at Country-Year Level\n",
       "  31  Country Policy and Institutional Assessment\n",
       "  32  Global Financial Development\n",
       "  33  G20 Financial Inclusion Indicators\n",
       "  34  Global Partnership for Education\n",
       "  35  Sustainable Energy for All\n",
       "  37  LAC Equity Lab\n",
       "  38  Subnational Poverty\n",
       "  39  Health Nutrition and Population Statistics by Wealth Quintile\n",
       "  40  Population estimates and projections\n",
       "  41  Country Partnership Strategy for India (FY2013 - 17)\n",
       "  43  Adjusted Net Savings\n",
       "  45  Indonesia Database for Policy and Economic Research\n",
       "  46  Sustainable Development Goals\n",
       "  50  Subnational Population\n",
       "  54  Joint External Debt Hub\n",
       "  57  WDI Database Archives\n",
       "  58  Universal Health Coverage\n",
       "  59  Wealth Accounts\n",
       "  60  Economic Fitness\n",
       "  61  PPPs Regulatory Quality\n",
       "  62  International Comparison Program (ICP) 2011\n",
       "  63  Human Capital Index\n",
       "  64  Worldwide Bureaucracy Indicators\n",
       "  65  Health Equity and Financial Protection Indicators\n",
       "  66  Logistics Performance Index\n",
       "  67  PEFA 2011\n",
       "  68  PEFA 2016\n",
       "  69  Global Financial Inclusion and Consumer Protection Survey\n",
       "  70  Economic Fitness 2\n",
       "  71  International Comparison Program (ICP) 2005\n",
       "  73  Global Financial Inclusion and Consumer Protection Survey (Internal)\n",
       "  75  Environment, Social and Governance (ESG) Data\n",
       "  76  Remittance Prices Worldwide (Sending Countries)\n",
       "  77  Remittance Prices Worldwide (Receiving Countries)\n",
       "  78  ICP 2017\n",
       "  79  PEFA_GRPFM\n",
       "  80  Gender Disaggregated Labor Database (GDLD)\n",
       "  81  International Debt Statistics: DSSI\n",
       "  82  Global Public Procurement\n",
       "  83  Statistical Performance Indicators (SPI)\n",
       "  84  Education Policy\n",
       "  85  PEFA_2021_SNG\n",
       "  86  Global Jobs Indicators Database (JOIN)\n",
       "  87  Country Climate and Development Report (CCDR)\n",
       "  88  Food Prices for Nutrition\n",
       "  89  Identification for Development (ID4D) Data\n",
       "  90  ICP 2021\n",
       "  91  PEFA_CRPFM\n",
       "  92  Disability Data Hub (DDH)"
      ]
     },
     "execution_count": 2,
     "metadata": {},
     "output_type": "execute_result"
    }
   ],
   "source": [
    "import wbdata\n",
    "wbdata.get_sources()"
   ]
  },
  {
   "cell_type": "markdown",
   "id": "395be462-e71e-4658-be5b-1bfbdee97734",
   "metadata": {},
   "source": [
    "Datasets i thought would be the most valuable for us (not considering the completeness)\n"
   ]
  },
  {
   "cell_type": "code",
   "execution_count": 3,
   "id": "ee87ab24-a431-44d4-ac02-d7913d513900",
   "metadata": {},
   "outputs": [
    {
     "name": "stdout",
     "output_type": "stream",
     "text": [
      "\n",
      " --- Gender Disaggregated Labor Database (GDLD), examples: --- \n",
      "Value-added from Capital in GTAP10P3COD\n",
      "Value-added from labor in GTAP10P3COD (in USD 2014 million)\n",
      "Share of female unskilled worker out of all workers in this sector, %\n",
      "Share of female skilled worker out of all workers in this sector, %\n",
      "Share of male unskilled worker out of all workers in this sector, %\n",
      "\n",
      " --- Country Climate and Development Report (CCDR), examples: --- \n",
      "Account (% age 15+)\n",
      "Account, income, poorest 40% (% ages 15+)\n",
      "Agricultural land (% of land area)\n",
      "Arable land (% of land area)\n",
      "Forest area (% of land area)\n",
      "\n",
      "  --- Sustainable Development Goals, examples: --- \n",
      "Forest area (sq. km)\n",
      "Forest area (% of land area)\n",
      "Cereal yield (kg per hectare)\n",
      "Current account balance (% of GDP)\n",
      "Portfolio Investment, net (BoP, current US$)\n",
      "\n",
      "  --- Sustainable Energy for All, examples: --- \n",
      "Access to electricity (% of total population)\n",
      "Total final energy consumption (TFEC)\n",
      "Access to electricity (% of rural population)\n",
      "Access to electricity (% of urban population)\n",
      "Access to Clean Fuels and Technologies for cooking (% of total population)\n",
      "\n",
      "  --- Gender Statistics, examples: --- \n",
      "Account (% age 15+)\n",
      "Account, female (% age 15+)\n",
      "Account, male (% age 15+)\n",
      "Borrowed any money  (% age 15+)\n",
      "Borrowed any money, women (% age 15+)\n"
     ]
    },
    {
     "data": {
      "text/plain": [
       "[None, None, None, None, None]"
      ]
     },
     "execution_count": 3,
     "metadata": {},
     "output_type": "execute_result"
    }
   ],
   "source": [
    "print(\"\\n --- Gender Disaggregated Labor Database (GDLD), examples: --- \")\n",
    "[print(item['name']) for item in wbdata.get_indicators(source=80)[:5]]\n",
    "print(\"\\n --- Country Climate and Development Report (CCDR), examples: --- \")\n",
    "[print(item['name']) for item in wbdata.get_indicators(source=87)[:5]]\n",
    "print(\"\\n  --- Sustainable Development Goals, examples: --- \")\n",
    "[print(item['name']) for item in wbdata.get_indicators(source=46)[:5]]\n",
    "print(\"\\n  --- Sustainable Energy for All, examples: --- \")\n",
    "[print(item['name']) for item in wbdata.get_indicators(source=35)[:5]]\n",
    "print(\"\\n  --- Gender Statistics, examples: --- \")\n",
    "[print(item['name']) for item in wbdata.get_indicators(source=14)[:5]]\n"
   ]
  },
  {
   "cell_type": "markdown",
   "id": "1d372571-3dfd-49eb-8318-9bb247e211e8",
   "metadata": {},
   "source": [
    "### Checking completeness of the datasets, best indicators"
   ]
  },
  {
   "cell_type": "code",
   "execution_count": 26,
   "id": "98631be4-6cc3-4179-9e60-cd79627e0504",
   "metadata": {},
   "outputs": [],
   "source": [
    "import wbdata\n",
    "import pandas as pd\n",
    "from datetime import datetime\n",
    "from tqdm import tqdm\n",
    "\n",
    "def rank_indicators_by_completeness(source=80, start_year=2000, end_year=2020, top_n=10):\n",
    "    \"\"\"\n",
    "    Fetch all indicators from a source and rank them by data completeness.\n",
    "    Fetches data in a single call by querying all countries at once.\n",
    "    \"\"\"\n",
    "    # Get all indicators for the source\n",
    "    indicators = wbdata.get_indicators(source=source)\n",
    "    indicator_dict = {ind['id']: ind['name'] for ind in indicators}\n",
    "    \n",
    "    print(f\"Found {len(indicator_dict)} indicators in source {source}\")\n",
    "    print(\"Fetching data for all indicators...\")\n",
    "    \n",
    "    # Fetch data using the API more efficiently - get all data at once\n",
    "    try:\n",
    "        date_range = (datetime(start_year, 1, 1), datetime(end_year, 1, 1))\n",
    "        \n",
    "        # Get data for all indicators by passing them as a list to fetch parameter\n",
    "        all_data = []\n",
    "        for code in tqdm(indicator_dict.keys(), desc=\"Fetching indicators\"):\n",
    "            try:\n",
    "                data = wbdata.get_data(\n",
    "                    code,\n",
    "                    date=date_range,\n",
    "                    freq='Y'\n",
    "                )\n",
    "                all_data.extend([(code, d['country']['value'], d['date'], d['value']) \n",
    "                                for d in data if d['value'] is not None])\n",
    "            except:\n",
    "                continue\n",
    "        \n",
    "        # Convert to dataframe\n",
    "        df = pd.DataFrame(all_data, columns=['indicator', 'country', 'date', 'value'])\n",
    "        \n",
    "        print(f\"Retrieved {len(df)} data points\")\n",
    "        \n",
    "        # Calculate completeness for each indicator\n",
    "        results = []\n",
    "        total_possible = len(df['country'].unique()) * (end_year - start_year + 1)\n",
    "        \n",
    "        for code, name in tqdm(indicator_dict.items(), desc=\"Calculating completeness\"):\n",
    "            indicator_data = df[df['indicator'] == code]\n",
    "            count = len(indicator_data)\n",
    "            completeness = count / total_possible if total_possible > 0 else 0\n",
    "            results.append((code, name, completeness, count))\n",
    "        \n",
    "        # Create and sort results\n",
    "        summary = pd.DataFrame(results, columns=[\"Indicator Code\", \"Indicator Name\", \"Completeness\", \"Data Points\"])\n",
    "        top = summary.sort_values(by=\"Completeness\", ascending=False)   \n",
    "        \n",
    "        return top, df\n",
    "        \n",
    "    except Exception as e:\n",
    "        print(f\"Error fetching data: {e}\")\n",
    "        import traceback\n",
    "        traceback.print_exc()\n",
    "        return None, None"
   ]
  },
  {
   "cell_type": "markdown",
   "id": "a1efc8b5-e892-413e-be0a-ab6ef9c7c77e",
   "metadata": {},
   "source": [
    "### Gender Disaggregated Labor Database (GDLD) doesnt work for me :("
   ]
  },
  {
   "cell_type": "code",
   "execution_count": 15,
   "id": "e90c060d-9139-4e8e-b790-9100a58412f7",
   "metadata": {},
   "outputs": [
    {
     "name": "stdout",
     "output_type": "stream",
     "text": [
      "Found 16 indicators in source 80\n",
      "Fetching data for all indicators...\n"
     ]
    },
    {
     "name": "stderr",
     "output_type": "stream",
     "text": [
      "Fetching indicators: 100%|█████████████████████████████████████████████████████████████| 16/16 [00:02<00:00,  6.69it/s]\n"
     ]
    },
    {
     "name": "stdout",
     "output_type": "stream",
     "text": [
      "Retrieved 0 data points\n"
     ]
    },
    {
     "name": "stderr",
     "output_type": "stream",
     "text": [
      "Calculating completeness: 100%|██████████████████████████████████████████████████████| 16/16 [00:00<00:00, 2370.00it/s]\n"
     ]
    }
   ],
   "source": [
    "gdld_summary, gdld_df = rank_indicators_by_completeness(80, 2000, 2025, 10)"
   ]
  },
  {
   "cell_type": "code",
   "execution_count": 50,
   "id": "5e4e7d71-404f-47c3-838a-ac008d4f2946",
   "metadata": {},
   "outputs": [
    {
     "name": "stdout",
     "output_type": "stream",
     "text": [
      "    Indicator Code                                     Indicator Name  \\\n",
      "0  gtap10VACapital            Value-added from Capital in GTAP10P3COD   \n",
      "1    gtap10VALabor  Value-added from labor in GTAP10P3COD (in USD ...   \n",
      "2          p_F_nsk  Share of female unskilled worker out of all wo...   \n",
      "3          p_F_skl  Share of female skilled worker out of all work...   \n",
      "4          p_M_nsk  Share of male unskilled worker out of all work...   \n",
      "5          p_M_skl  Share of male skilled worker out of all worker...   \n",
      "6          v_F_nsk       Labor volume for unskilled females, millions   \n",
      "7          v_F_skl         Labor volume for skilled females, millions   \n",
      "8          v_M_nsk          Labor volume for unskilled male, millions   \n",
      "9          v_M_skl           Labor volume for skilled males, millions   \n",
      "\n",
      "   Completeness  Data Points  \n",
      "0             0            0  \n",
      "1             0            0  \n",
      "2             0            0  \n",
      "3             0            0  \n",
      "4             0            0  \n",
      "5             0            0  \n",
      "6             0            0  \n",
      "7             0            0  \n",
      "8             0            0  \n",
      "9             0            0  \n"
     ]
    }
   ],
   "source": [
    "print(gdld_summary)"
   ]
  },
  {
   "cell_type": "markdown",
   "id": "4dbf482b-a88e-443f-9f7a-e4cbf7c991e8",
   "metadata": {},
   "source": [
    "Sustainable Development Goals indicators completeness:"
   ]
  },
  {
   "cell_type": "code",
   "execution_count": 17,
   "id": "c0df344b-a907-4118-9ea7-42f9683aba5b",
   "metadata": {},
   "outputs": [
    {
     "name": "stdout",
     "output_type": "stream",
     "text": [
      "Found 408 indicators in source 46\n",
      "Fetching data for all indicators...\n"
     ]
    },
    {
     "name": "stderr",
     "output_type": "stream",
     "text": [
      "Fetching indicators: 100%|███████████████████████████████████████████████████████████| 408/408 [13:43<00:00,  2.02s/it]\n"
     ]
    },
    {
     "name": "stdout",
     "output_type": "stream",
     "text": [
      "Retrieved 1234246 data points\n"
     ]
    },
    {
     "name": "stderr",
     "output_type": "stream",
     "text": [
      "Calculating completeness: 100%|██████████████████████████████████████████████████████| 408/408 [00:27<00:00, 14.82it/s]\n"
     ]
    }
   ],
   "source": [
    "sdg_summary, sdg_df = rank_indicators_by_completeness(46, 2000, 2025, 10)"
   ]
  },
  {
   "cell_type": "code",
   "execution_count": 35,
   "id": "d90316b7-f1a1-498d-8a9c-e55c30b0ab8e",
   "metadata": {},
   "outputs": [
    {
     "name": "stdout",
     "output_type": "stream",
     "text": [
      "        Indicator Code                                     Indicator Name  \\\n",
      "396  SP.URB.TOTL.IN.ZS           Urban population (% of total population)   \n",
      "395        SP.URB.TOTL                                   Urban population   \n",
      "394        SP.URB.GROW                 Urban population growth (annual %)   \n",
      "111     NY.GDP.MKTP.CD                                  GDP (current US$)   \n",
      "119     NY.GDP.PCAP.CD                       GDP per capita (current US$)   \n",
      "385        SP.ADO.TFRT  Adolescent fertility rate (births per 1,000 wo...   \n",
      "114  NY.GDP.MKTP.KD.ZG                              GDP growth (annual %)   \n",
      "122  NY.GDP.PCAP.KD.ZG                   GDP per capita growth (annual %)   \n",
      "121     NY.GDP.PCAP.KD                 GDP per capita (constant 2015 US$)   \n",
      "113     NY.GDP.MKTP.KD                            GDP (constant 2015 US$)   \n",
      "\n",
      "     Completeness  Data Points  \n",
      "396      0.829130         6575  \n",
      "395      0.829130         6575  \n",
      "394      0.829004         6574  \n",
      "111      0.808701         6413  \n",
      "119      0.808701         6413  \n",
      "385      0.802018         6360  \n",
      "114      0.799622         6341  \n",
      "122      0.799622         6341  \n",
      "121      0.796847         6319  \n",
      "113      0.796847         6319  \n"
     ]
    }
   ],
   "source": [
    "print(sdg_summary.head(15))"
   ]
  },
  {
   "cell_type": "markdown",
   "id": "82995d66-6836-4522-9999-83883fe36f69",
   "metadata": {},
   "source": [
    "## Country Climate and Development Report"
   ]
  },
  {
   "cell_type": "code",
   "execution_count": 27,
   "id": "73766090-e205-439e-9988-99d26aa6ce21",
   "metadata": {},
   "outputs": [
    {
     "name": "stdout",
     "output_type": "stream",
     "text": [
      "Found 432 indicators in source 87\n",
      "Fetching data for all indicators...\n"
     ]
    },
    {
     "name": "stderr",
     "output_type": "stream",
     "text": [
      "Fetching indicators: 100%|█████████████████████████████████████████████████████████| 432/432 [1:10:11<00:00,  9.75s/it]\n"
     ]
    },
    {
     "name": "stdout",
     "output_type": "stream",
     "text": [
      "Retrieved 815635 data points\n"
     ]
    },
    {
     "name": "stderr",
     "output_type": "stream",
     "text": [
      "Calculating completeness: 100%|██████████████████████████████████████████████████████| 432/432 [00:17<00:00, 25.00it/s]\n"
     ]
    }
   ],
   "source": [
    "ccdr_summary, ccdr_df = rank_indicators_by_completeness(87, 2000, 2025, 10)"
   ]
  },
  {
   "cell_type": "code",
   "execution_count": 28,
   "id": "d864c147-938a-4903-b0d4-59cf493cc093",
   "metadata": {},
   "outputs": [
    {
     "name": "stdout",
     "output_type": "stream",
     "text": [
      "        Indicator Code                                     Indicator Name  \\\n",
      "429        SP.POP.TOTL                                  Population, total   \n",
      "430  SP.URB.TOTL.IN.ZS           Urban population (% of total population)   \n",
      "411     NY.GDP.PCAP.CD                       GDP per capita (current US$)   \n",
      "408     NY.GDP.MKTP.CD                                  GDP (current US$)   \n",
      "409  NY.GDP.MKTP.KD.ZG                              GDP growth (annual %)   \n",
      "394     EG.ELC.ACCS.ZS            Access to electricity (% of population)   \n",
      "4       AG.LND.FRST.ZS                       Forest area (% of land area)   \n",
      "3       AG.LND.ARBL.ZS                       Arable land (% of land area)   \n",
      "423     SH.STA.BASS.ZS  People using at least basic sanitation service...   \n",
      "422     SH.H2O.BASW.ZS  People using at least basic drinking water ser...   \n",
      "\n",
      "     Completeness  Data Points  \n",
      "429      0.926573         6625  \n",
      "430      0.919580         6575  \n",
      "411      0.896923         6413  \n",
      "408      0.896923         6413  \n",
      "409      0.886853         6341  \n",
      "394      0.879301         6287  \n",
      "4        0.862797         6169  \n",
      "3        0.840839         6012  \n",
      "423      0.823776         5890  \n",
      "422      0.820979         5870  \n"
     ]
    }
   ],
   "source": [
    "print(ccdr_summary.head(15))"
   ]
  },
  {
   "cell_type": "markdown",
   "id": "ffa7e558-8a62-4474-9c8c-627d44babd62",
   "metadata": {},
   "source": [
    "## Sustainable Energy for All indicators completeness:"
   ]
  },
  {
   "cell_type": "code",
   "execution_count": 29,
   "id": "5e4bf749-a36d-447f-b379-24b861b2a884",
   "metadata": {},
   "outputs": [
    {
     "name": "stdout",
     "output_type": "stream",
     "text": [
      "Found 11 indicators in source 35\n",
      "Fetching data for all indicators...\n"
     ]
    },
    {
     "name": "stderr",
     "output_type": "stream",
     "text": [
      "Fetching indicators: 100%|█████████████████████████████████████████████████████████████| 11/11 [00:10<00:00,  1.07it/s]\n"
     ]
    },
    {
     "name": "stdout",
     "output_type": "stream",
     "text": [
      "Retrieved 39126 data points\n"
     ]
    },
    {
     "name": "stderr",
     "output_type": "stream",
     "text": [
      "Calculating completeness: 100%|███████████████████████████████████████████████████████| 11/11 [00:00<00:00, 471.53it/s]\n"
     ]
    }
   ],
   "source": [
    "se_summary, se_df = rank_indicators_by_completeness(35, 2000, 2025, 10)"
   ]
  },
  {
   "cell_type": "code",
   "execution_count": 49,
   "id": "0e703954-14b4-4a3c-b512-1e8782c4a44c",
   "metadata": {},
   "outputs": [
    {
     "name": "stdout",
     "output_type": "stream",
     "text": [
      "                   Indicator Code  \\\n",
      "1   1.1_TOTAL.FINAL.ENERGY.CONSUM   \n",
      "6              3.1_RE.CONSUMPTION   \n",
      "8    4.1.2_REN.ELECTRICITY.OUTPUT   \n",
      "9     4.1_SHARE.RE.IN.ELECTRICITY   \n",
      "0      1.1_ACCESS.ELECTRICITY.TOT   \n",
      "3    1.3_ACCESS.ELECTRICITY.URBAN   \n",
      "7  4.1.1_TOTAL.ELECTRICITY.OUTPUT   \n",
      "5      2.1_SHARE.TOTAL.RE.IN.TFEC   \n",
      "2    1.2_ACCESS.ELECTRICITY.RURAL   \n",
      "4              2.1_ACCESS.CFT.TOT   \n",
      "\n",
      "                                      Indicator Name  Completeness  \\\n",
      "1              Total final energy consumption (TFEC)      0.610782   \n",
      "6                  Renewable energy consumption (TJ)      0.610782   \n",
      "8          Renewable energy electricity output (GWh)      0.610618   \n",
      "9  Renewable electricity (% in total electricity ...      0.610618   \n",
      "0      Access to electricity (% of total population)      0.604043   \n",
      "3      Access to electricity (% of urban population)      0.604043   \n",
      "7                     Total electricity output (GWh)      0.599441   \n",
      "5            Renewable energy consumption(% in TFEC)      0.590894   \n",
      "2      Access to electricity (% of rural population)      0.554898   \n",
      "4  Access to Clean Fuels and Technologies for coo...      0.530901   \n",
      "\n",
      "   Data Points  \n",
      "1         3716  \n",
      "6         3716  \n",
      "8         3715  \n",
      "9         3715  \n",
      "0         3675  \n",
      "3         3675  \n",
      "7         3647  \n",
      "5         3595  \n",
      "2         3376  \n",
      "4         3230  \n"
     ]
    }
   ],
   "source": [
    "print(se_summary.head(15))"
   ]
  },
  {
   "cell_type": "markdown",
   "id": "dfe22a3c-6331-4a4d-806f-55541ac7c6d2",
   "metadata": {},
   "source": [
    "## Gender Statistics indicators completeness:"
   ]
  },
  {
   "cell_type": "code",
   "execution_count": 31,
   "id": "6049d3a0-84af-427c-8607-3dc7e337e8d5",
   "metadata": {},
   "outputs": [
    {
     "name": "stdout",
     "output_type": "stream",
     "text": [
      "Found 1277 indicators in source 14\n",
      "Fetching data for all indicators...\n"
     ]
    },
    {
     "name": "stderr",
     "output_type": "stream",
     "text": [
      "Fetching indicators: 100%|██████████████████████████████████████████████████████| 1277/1277 [13:06:22<00:00, 36.95s/it]\n"
     ]
    },
    {
     "name": "stdout",
     "output_type": "stream",
     "text": [
      "Retrieved 480728 data points\n"
     ]
    },
    {
     "name": "stderr",
     "output_type": "stream",
     "text": [
      "Calculating completeness: 100%|████████████████████████████████████████████████████| 1277/1277 [00:30<00:00, 41.73it/s]\n"
     ]
    }
   ],
   "source": [
    "gs_summary, gs_df = rank_indicators_by_completeness(14, 2000, 2025, 10)"
   ]
  },
  {
   "cell_type": "code",
   "execution_count": 32,
   "id": "9fc9fa76-dc4c-4030-9ed2-c81552440586",
   "metadata": {},
   "outputs": [
    {
     "name": "stdout",
     "output_type": "stream",
     "text": [
      "        Indicator Code                                    Indicator Name  \\\n",
      "439     NY.GDP.PCAP.CD                      GDP per capita (current US$)   \n",
      "437     NY.GDP.MKTP.CD                                 GDP (current US$)   \n",
      "438  NY.GDP.MKTP.KD.ZG                             GDP growth (annual %)   \n",
      "440     NY.GDP.PCAP.KD                GDP per capita (constant 2015 US$)   \n",
      "442     NY.GNP.PCAP.CD        GNI per capita, Atlas method (current US$)   \n",
      "441     NY.GNP.ATLS.CD                   GNI, Atlas method (current US$)   \n",
      "443  NY.GNP.PCAP.PP.CD     GNI per capita, PPP (current international $)   \n",
      "430     IT.NET.USER.ZS  Individuals using the Internet (% of population)   \n",
      "479        SE.PRM.ENRR              School enrollment, primary (% gross)   \n",
      "480     SE.PRM.ENRR.FE      School enrollment, primary, female (% gross)   \n",
      "\n",
      "     Completeness  Data Points  \n",
      "439      0.862426         6413  \n",
      "437      0.862426         6413  \n",
      "438      0.852743         6341  \n",
      "440      0.849785         6319  \n",
      "442      0.817375         6078  \n",
      "441      0.817375         6078  \n",
      "443      0.806213         5995  \n",
      "430      0.728080         5414  \n",
      "479      0.704949         5242  \n",
      "480      0.701990         5220  \n"
     ]
    }
   ],
   "source": [
    "print(gs_summary.head(15))"
   ]
  },
  {
   "cell_type": "code",
   "execution_count": null,
   "id": "e614063c-b4ae-4406-bfe4-4ace5687f8c8",
   "metadata": {},
   "outputs": [],
   "source": []
  }
 ],
 "metadata": {
  "kernelspec": {
   "display_name": "Python 3 (ipykernel)",
   "language": "python",
   "name": "python3"
  },
  "language_info": {
   "codemirror_mode": {
    "name": "ipython",
    "version": 3
   },
   "file_extension": ".py",
   "mimetype": "text/x-python",
   "name": "python",
   "nbconvert_exporter": "python",
   "pygments_lexer": "ipython3",
   "version": "3.13.5"
  }
 },
 "nbformat": 4,
 "nbformat_minor": 5
}
