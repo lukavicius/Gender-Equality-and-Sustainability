{
 "cells": [
  {
   "cell_type": "markdown",
   "id": "24075a32decd824e",
   "metadata": {},
   "source": [
    "# EPA112 Programming for Data Science: Final Project\n",
    "### Group 42: Angelica, Elena Deckert (6580300), Tadas Lukavicius(5525047)"
   ]
  },
  {
   "cell_type": "markdown",
   "id": "3dbaa0c60d65dcf8",
   "metadata": {},
   "source": [
    "# 1. Introduction"
   ]
  },
  {
   "cell_type": "markdown",
   "id": "2ab3336693deb6ea",
   "metadata": {},
   "source": [
    "This cell installs all the necessary additional libraries."
   ]
  },
  {
   "cell_type": "code",
   "execution_count": 18,
   "id": "5dd5b8873ba9c74e",
   "metadata": {},
   "outputs": [
    {
     "name": "stderr",
     "output_type": "stream",
     "text": [
      "\n",
      "[notice] A new release of pip is available: 23.2.1 -> 25.2\n",
      "[notice] To update, run: python.exe -m pip install --upgrade pip\n",
      "\n",
      "[notice] A new release of pip is available: 23.2.1 -> 25.2\n",
      "[notice] To update, run: python.exe -m pip install --upgrade pip\n",
      "\n",
      "[notice] A new release of pip is available: 23.2.1 -> 25.2\n",
      "[notice] To update, run: python.exe -m pip install --upgrade pip\n",
      "\n",
      "[notice] A new release of pip is available: 23.2.1 -> 25.2\n",
      "[notice] To update, run: python.exe -m pip install --upgrade pip\n",
      "\n",
      "[notice] A new release of pip is available: 23.2.1 -> 25.2\n",
      "[notice] To update, run: python.exe -m pip install --upgrade pip\n",
      "\n",
      "[notice] A new release of pip is available: 23.2.1 -> 25.2\n",
      "[notice] To update, run: python.exe -m pip install --upgrade pip\n"
     ]
    }
   ],
   "source": [
    "!pip install pycountry -q\n",
    "!pip install pycountry-convert -q\n",
    "!pip install wbdata -q\n",
    "!pip install ipywidgets -q\n",
    "!pip install plotly -q\n",
    "!pip install scikit-learn -q"
   ]
  },
  {
   "cell_type": "markdown",
   "id": "5e6176c1fcb1c495",
   "metadata": {},
   "source": [
    "This cell imports all the necessary libraries"
   ]
  },
  {
   "cell_type": "code",
   "execution_count": 36,
   "id": "c6cb78d2b2e36885",
   "metadata": {},
   "outputs": [],
   "source": [
    "import logging\n",
    "import warnings\n",
    "# Suppresses warning errors, there are too many of them there about caches from wbdata\n",
    "logging.getLogger(\"shelved_cache.persistent_cache\").setLevel(logging.ERROR)\n",
    "warnings.simplefilter(action='ignore', category=FutureWarning)\n",
    "import wbdata\n",
    "import pandas as pd\n",
    "import datetime\n",
    "import os\n",
    "import numpy as np\n",
    "import matplotlib.pyplot as plt\n",
    "import seaborn as sns\n",
    "import pycountry\n",
    "import pycountry_convert\n",
    "import json\n",
    "from data_handler import Data_Handler\n",
    "from completeness import Completeness_Ranker\n",
    "from sklearn.preprocessing import StandardScaler\n",
    "from sklearn.cluster import KMeans\n",
    "from sklearn.decomposition import PCA\n",
    "\n",
    "import plotly.express as px"
   ]
  },
  {
   "cell_type": "markdown",
   "id": "36767a471c094ec",
   "metadata": {},
   "source": [
    "# 2. Datasets"
   ]
  },
  {
   "cell_type": "markdown",
   "id": "566a77ec24925876",
   "metadata": {},
   "source": [
    "## 2.1 WBData completeness analysis"
   ]
  },
  {
   "cell_type": "markdown",
   "id": "4bdae0eca0d127c1",
   "metadata": {},
   "source": [
    "First, we completed a completeness analysis on the World Bank data. This was done because the data provided by the World Bank had a lot of factors; however, a lot of them had a lot of missing data. This was done by selecting the indicators that we were interested in, namely:\n",
    "- Gender Disaggregated Labor Database (GDLD)\n",
    "- Country Climate and Development Report (CCDR)\n",
    "- Sustainable Development Goals\n",
    "- Sustainable Energy for All\n",
    "- Gender Statistics \n",
    "\n",
    "For each of these categories, we got all the data and checked how many NaN values there were per factor. This gave us valuable insight into which data can provide the most information for our further research.\n",
    "\n",
    "In the next cell, we provide an example of such an analysis for the _Sustainable Energy for All_ indicator. We wanted to avoid clutter in this notebook, so the complete analysis can be found in the \"WBData explore\" notebook."
   ]
  },
  {
   "cell_type": "code",
   "execution_count": 20,
   "id": "bbe1d64af6196745",
   "metadata": {},
   "outputs": [
    {
     "name": "stdout",
     "output_type": "stream",
     "text": [
      "Found 11 indicators in source 35\n",
      "Fetching data for all indicators...\n"
     ]
    },
    {
     "name": "stderr",
     "output_type": "stream",
     "text": [
      "Fetching indicators: 100%|█████████████████████████████████████████████████████████████| 11/11 [00:11<00:00,  1.03s/it]\n"
     ]
    },
    {
     "name": "stdout",
     "output_type": "stream",
     "text": [
      "Retrieved 39126 data points\n"
     ]
    },
    {
     "name": "stderr",
     "output_type": "stream",
     "text": [
      "Calculating completeness: 100%|███████████████████████████████████████████████████████| 11/11 [00:00<00:00, 513.35it/s]"
     ]
    },
    {
     "name": "stdout",
     "output_type": "stream",
     "text": [
      "                    Indicator Code  \\\n",
      "1    1.1_TOTAL.FINAL.ENERGY.CONSUM   \n",
      "6               3.1_RE.CONSUMPTION   \n",
      "8     4.1.2_REN.ELECTRICITY.OUTPUT   \n",
      "9      4.1_SHARE.RE.IN.ELECTRICITY   \n",
      "0       1.1_ACCESS.ELECTRICITY.TOT   \n",
      "3     1.3_ACCESS.ELECTRICITY.URBAN   \n",
      "7   4.1.1_TOTAL.ELECTRICITY.OUTPUT   \n",
      "5       2.1_SHARE.TOTAL.RE.IN.TFEC   \n",
      "2     1.2_ACCESS.ELECTRICITY.RURAL   \n",
      "4               2.1_ACCESS.CFT.TOT   \n",
      "10    6.1_PRIMARY.ENERGY.INTENSITY   \n",
      "\n",
      "                                       Indicator Name  Completeness  \\\n",
      "1               Total final energy consumption (TFEC)      0.610782   \n",
      "6                   Renewable energy consumption (TJ)      0.610782   \n",
      "8           Renewable energy electricity output (GWh)      0.610618   \n",
      "9   Renewable electricity (% in total electricity ...      0.610618   \n",
      "0       Access to electricity (% of total population)      0.604043   \n",
      "3       Access to electricity (% of urban population)      0.604043   \n",
      "7                      Total electricity output (GWh)      0.599441   \n",
      "5             Renewable energy consumption(% in TFEC)      0.590894   \n",
      "2       Access to electricity (% of rural population)      0.554898   \n",
      "4   Access to Clean Fuels and Technologies for coo...      0.530901   \n",
      "10  Energy intensity level of primary energy (MJ/$...      0.503945   \n",
      "\n",
      "    Data Points  \n",
      "1          3716  \n",
      "6          3716  \n",
      "8          3715  \n",
      "9          3715  \n",
      "0          3675  \n",
      "3          3675  \n",
      "7          3647  \n",
      "5          3595  \n",
      "2          3376  \n",
      "4          3230  \n",
      "10         3066  \n"
     ]
    },
    {
     "name": "stderr",
     "output_type": "stream",
     "text": [
      "\n"
     ]
    }
   ],
   "source": [
    "se_summary, se_df = Completeness_Ranker.rank_indicators_by_completeness(35, 2000, 2025, 10)\n",
    "print(se_summary.head(15))"
   ]
  },
  {
   "cell_type": "markdown",
   "id": "da0c5ed7bd6166c7",
   "metadata": {},
   "source": [
    "## 2.2 Pulling the data"
   ]
  },
  {
   "cell_type": "markdown",
   "id": "c943791922ce406e",
   "metadata": {},
   "source": [
    "Next, we chose data depending on their completeness and interest in our research.\n",
    "\n",
    "From the World Bank data, we chose:\n",
    "- Renewable energy share: Renewable electricity share of total electricity output (%): Electricity generated by power plants using renewable resources as a share of total electricity output.\n",
    "- Basic drinking water:\tThe percentage of people using at least basic water services. This indicator encompasses both people using basic water services as well as those using safely managed water services.\n",
    "\n",
    "From the Environmental Performance Index by Yale, we chose:\n",
    "- Species protection index: measures how well a country's terrestrial protected areas overlap with the ranges of its vertebrate, invertebrate, and plant species.\n",
    "- Air Polution SO2 trend: measures exposure to ground-level sulfur dioxide using a country’s ambient ground-level concentration.\n",
    "- Ambient PM2.5 from human resources: measures the exposure to fine particulate matter pollution from anthropogenic sources, such as the burning of fossil fuels, which are easier to influence through policy than natural sources.\n",
    "- Marine Habitat Protection: measures the percentage of the area of important marine and coastal habitats under official protection within a country’s Exclusive Economic Zone(s).\n",
    "\n",
    "From the Human Development Index by United Nations, we chose:\n",
    "- GII: composite metric of gender inequality using three dimensions: reproductive health, empowerment and the labour market. A low GII value indicates low inequality between women and men, and vice-versa.\n",
    "- Shares of seats in the parliament, female: percentage of parliamentary seats held by women.\n",
    "- Labour force participation, female: percentage of women who are working or actively seeking work.\n",
    "- Population with secondary education, female: percentage of women who have completed secondary education.\n",
    "\n",
    "Note: we had to download Renewable energy consumption share data separately because the API to world bank had incomplete data. The data retrieved via the API had no data after 2015, thus we downloaded the data separately and imported it.\n",
    "\n",
    "In the next cell, we get the said data from according sources."
   ]
  },
  {
   "cell_type": "code",
   "execution_count": 21,
   "id": "ef5f6335a6d53b91",
   "metadata": {},
   "outputs": [],
   "source": [
    "# Initialise data indicators and relative names for the columns in the data\n",
    "indicators_wb = { \"SH.H2O.BASW.ZS\" :  \"Basic drinking water\"}\n",
    "indicators_yale = { \"SPI\" : \"Species protection index\",\n",
    "              \"SDA\" : \"Air Polution SO2 trend\",\n",
    "              \"HPE\" : \"Ambient PM2.5 from human resources\", \n",
    "              \"MHP\" : \"Marine Habitat Protection\"}\n",
    "indicators_hdi = {\"gii\" : \"GII\",\n",
    "                 \"pr_f\" : \"Shares of seats in the parliament, female\",\n",
    "                 \"lfpr_f\" : \"Labour force participation, female\",\n",
    "                 \"se_f\" : \"Population with secondary education, female\"}\n",
    "\n",
    "# Get world bank data\n",
    "wbdata = Data_Handler.get_data_WB(\n",
    "    indicators_wb, \n",
    "    countries=\"all\", \n",
    "    start_year=1990, \n",
    "    end_year=2025\n",
    " )\n",
    "# Get HDI data\n",
    "hdi_data = Data_Handler.get_data_HDI(\n",
    "    filepath=\"HDR25_Composite_indices_complete_time_series.csv\",\n",
    "    indicators=indicators_hdi,\n",
    "    countries=None,\n",
    "    start_year=1990,\n",
    "    end_year=2024\n",
    ")\n",
    "# Get EPI data\n",
    "epi_data = Data_Handler.get_data_EPI(\n",
    "    indicators=indicators_yale,\n",
    "    countries=None,\n",
    "    start_year=1990,\n",
    "    end_year=2024\n",
    ")\n",
    "\n",
    "re_data = Data_Handler.get_renewable_energy_data(\n",
    "    file_path=\"API_EG.FEC.RNEW.ZS_DS2_en_csv_v2_130800.csv\",\n",
    "    start_year=1990,\n",
    "    end_year=2024\n",
    ")"
   ]
  },
  {
   "cell_type": "markdown",
   "id": "1acb6b4f36a345e2",
   "metadata": {},
   "source": [
    "In the next cell, we merge all data into one dataframe"
   ]
  },
  {
   "cell_type": "code",
   "execution_count": 22,
   "id": "c6917ca8369abdf1",
   "metadata": {},
   "outputs": [],
   "source": [
    "# Rename columns for consistency\n",
    "wbdata.rename(columns={'Country': 'country', 'Year': 'year'}, inplace=True)\n",
    "\n",
    "# Pivot the HDI dataset so that each metric_name becomes a column\n",
    "hdi_data_pivot = hdi_data.pivot_table(\n",
    "    index=['country', 'year'],   \n",
    "    columns='metric_name',       \n",
    "    values='value'               \n",
    ").reset_index()                  \n",
    "\n",
    "# Pivot the EPI dataset \n",
    "epi_data_pivot = epi_data.pivot_table(\n",
    "    index=['country', 'year'],\n",
    "    columns='variable_name',     # Each variable_name becomes a column\n",
    "    values='value'\n",
    ").reset_index()\n",
    "\n",
    "# Merge all three datasets on 'country' and 'year'\n",
    "data = (\n",
    "    wbdata\n",
    "    .merge(hdi_data_pivot, on=['country', 'year'], how='outer')\n",
    "    .merge(epi_data_pivot, on=['country', 'year'], how='outer')\n",
    "    .merge(re_data, on=['country', 'year'], how='outer')\n",
    ")"
   ]
  },
  {
   "cell_type": "markdown",
   "id": "cc91e655b6ca7a1a",
   "metadata": {},
   "source": [
    "## 2.3 Data preprocessing"
   ]
  },
  {
   "cell_type": "markdown",
   "id": "912721a7a1b554f4",
   "metadata": {},
   "source": [
    "In this section, we complete all necessary data preprocessing."
   ]
  },
  {
   "cell_type": "markdown",
   "id": "d00b045814c1783f",
   "metadata": {},
   "source": [
    "To get a standardised list of country names, we will be using pycountry. This library contains an ISO list of country names. Additionally, some \"countries' are actually regions (e.g. Eurozone, the world, etc), so we skipped those as we are interested in the dynamics between different countries. We used a mapping of countries that were picked manually, because different datasets had different names for countries (e.g. \"Czezh Republic\" and \"Czechia\"), which was saved in a JSON format in the file country_names_mapping.json. This approach was done in order to reduce clutter in the notebook."
   ]
  },
  {
   "cell_type": "code",
   "execution_count": 23,
   "id": "2c886e9e901924f3",
   "metadata": {},
   "outputs": [],
   "source": [
    "# Create a set of official country names from the pycountry library\n",
    "pycountry_names = set([c.name for c in pycountry.countries])\n",
    "country_map = {}\n",
    "for name in data['country'].unique():\n",
    "    if name in pycountry_names:\n",
    "        country_map[name] = name\n",
    "\n",
    "# Load a mapping file that contains manual corrections for country names not recognised by pycountry\n",
    "with open(\"country_names_mapping.json\", \"r\", encoding=\"utf-8\") as f:\n",
    "    map_update = json.load(f)\n",
    "\n",
    "# Update the country_map with custom name mappings\n",
    "country_map.update(map_update)\n",
    "data['country'] = data['country'].map(country_map)\n",
    "\n",
    "# Drop rows where 'country' is NaN\n",
    "data = data.dropna(subset=['country'])\n",
    "\n",
    "# Group by country and year to ensure unique records per pair\n",
    "# If there are duplicates, `.first()` keeps the first occurrence\n",
    "data = data.groupby(['country', 'year'], as_index=False).first()\n"
   ]
  },
  {
   "cell_type": "markdown",
   "id": "bace61d376fbe544",
   "metadata": {},
   "source": [
    "In the next cell, we make a continent variable, which will later help us identify patterns between different continents."
   ]
  },
  {
   "cell_type": "code",
   "execution_count": 24,
   "id": "a7f2f942c9bdf90f",
   "metadata": {},
   "outputs": [],
   "source": [
    "def get_continent(country_name):\n",
    "    try:\n",
    "        # Try to find the country by exact name first\n",
    "        country = pycountry.countries.get(name=country_name)\n",
    "        \n",
    "        # If not found, try fuzzy search\n",
    "        if country is None:\n",
    "            country = pycountry.countries.search_fuzzy(country_name)[0]\n",
    "        \n",
    "        # Get ISO Alpha-2 code\n",
    "        country_code = country.alpha_2\n",
    "        \n",
    "        # Convert to continent code and name\n",
    "        continent_code = pycountry_convert.country_alpha2_to_continent_code(country_code)\n",
    "        continent_name = pycountry_convert.convert_continent_code_to_continent_name(continent_code)\n",
    "        \n",
    "        return continent_name\n",
    "\n",
    "    except Exception:\n",
    "        return 'Unknown'\n",
    "\n",
    "# Apply to your DataFrame\n",
    "data['continent'] = data['country'].apply(get_continent)"
   ]
  },
  {
   "cell_type": "markdown",
   "id": "5652689991633248",
   "metadata": {},
   "source": [
    "After the previous cell, due to the mismatch between the names in the pycountry list and the dataset, a few countries were not identified. For these countries, we assigned the continent manually. This was done in the next two cells."
   ]
  },
  {
   "cell_type": "code",
   "execution_count": 25,
   "id": "8b80064c346c0ffb",
   "metadata": {},
   "outputs": [
    {
     "name": "stdout",
     "output_type": "stream",
     "text": [
      "                               country\n",
      "1709  Democratic Republic Of The Congo\n",
      "1884                        East Timor\n",
      "3979                  Macao SAR, China\n",
      "6108         Sint Maarten (Dutch part)\n",
      "7288                    Western Sahara\n"
     ]
    }
   ],
   "source": [
    "unknown_continent_countries = data[\n",
    "    (data['continent'].isna()) | (data['continent'] == 'Unknown')\n",
    "][['country']].drop_duplicates()\n",
    "\n",
    "print(unknown_continent_countries)"
   ]
  },
  {
   "cell_type": "code",
   "execution_count": 26,
   "id": "f5a4c7f1da0a373c",
   "metadata": {},
   "outputs": [],
   "source": [
    "data.loc[data[\"country\"] == \"Democratic Republic Of The Congo\", \"continent\"] = \"Africa\"\n",
    "data.loc[data[\"country\"] == \"Macao SAR, China\", \"continent\"] = \"Asia\"\n",
    "data.loc[data[\"country\"] == \"Sint Maarten (Dutch part)\", \"continent\"] = \"North America\"\n",
    "data.loc[data[\"country\"] == \"Western Sahara\", \"continent\"] = \"Africa\"\n",
    "data.loc[data[\"country\"] == \"East Timor\", \"continent\"] = \"Asia\""
   ]
  },
  {
   "cell_type": "markdown",
   "id": "7754765a0697fc96",
   "metadata": {},
   "source": [
    "Later, we plotted the missing values by year in a bar graph."
   ]
  },
  {
   "cell_type": "code",
   "execution_count": 27,
   "id": "44abcf4b013a86c3",
   "metadata": {},
   "outputs": [
    {
     "data": {
      "image/png": "[encoded data removed]",
      "text/plain": [
       "<Figure size 1000x500 with 1 Axes>"
      ]
     },
     "metadata": {},
     "output_type": "display_data"
    }
   ],
   "source": [
    "# Exclude trivial columns\n",
    "cols_to_check = [c for c in data.columns if c not in ['year', 'country', 'continent']]\n",
    "\n",
    "# Percentage of NaN values per year (average across all countries and columns)\n",
    "nan_by_year = data.groupby('year')[cols_to_check].apply(lambda x: x.isna().mean().mean() * 100)\n",
    "\n",
    "# Plot NaN values\n",
    "plt.figure(figsize=(10,5))\n",
    "plt.bar(nan_by_year.index.astype(str), nan_by_year.values)\n",
    "plt.title('Average Percentage of Missing Data per Year (All Countries)')\n",
    "plt.xlabel('Year')\n",
    "plt.ylabel('Missing Data (%)')\n",
    "plt.xticks(rotation=45)\n",
    "plt.grid(axis='y', linestyle='--', alpha=0.7)\n",
    "plt.tight_layout()\n",
    "plt.show()"
   ]
  },
  {
   "cell_type": "markdown",
   "id": "6f191318d9fd7599",
   "metadata": {},
   "source": [
    "As we can see from the bar graph, a lot of the missing data is before 2000 and after 2022, thus, we have decided to exclude this data from our dataset."
   ]
  },
  {
   "cell_type": "code",
   "execution_count": 28,
   "id": "40e25993919265f",
   "metadata": {},
   "outputs": [],
   "source": [
    "data = data[(data['year'] >= 2000) & (data['year'] <= 2022)]"
   ]
  },
  {
   "cell_type": "markdown",
   "id": "8a4e9fbf5eb15224",
   "metadata": {},
   "source": [
    "Next, we plot countries and the percentage of missing values per country."
   ]
  },
  {
   "cell_type": "code",
   "execution_count": 29,
   "id": "6d76956e9b42959d",
   "metadata": {},
   "outputs": [
    {
     "data": {
      "image/png": "[encoded data removed]",
      "text/plain": [
       "<Figure size 1000x600 with 1 Axes>"
      ]
     },
     "metadata": {},
     "output_type": "display_data"
    }
   ],
   "source": [
    "# Get NaN values by country\n",
    "nan_by_country = data.groupby('country')[cols_to_check].apply(lambda x: x.isna().mean().mean() * 100)\n",
    "nan_by_country = nan_by_country.sort_values(ascending=False)\n",
    "\n",
    "# Plot NaN values\n",
    "plt.figure(figsize=(10,6))\n",
    "plt.barh(range(len(nan_by_country)), nan_by_country.values, color='skyblue')  # use range for no labels\n",
    "plt.axvline(x=30, color='red', linestyle='--', linewidth=2, label='30% threshold')  # red line at 30%\n",
    "plt.xlabel('% of Missing Values')\n",
    "plt.ylabel(\"Countries\")\n",
    "plt.title('Ratio of missing data per country')\n",
    "plt.yticks([])  # remove y-axis labels\n",
    "plt.legend()\n",
    "plt.gca().invert_yaxis()  # largest on top\n",
    "plt.show()\n"
   ]
  },
  {
   "cell_type": "markdown",
   "id": "f09d4018e10dc950",
   "metadata": {},
   "source": [
    "From the graph, we can see that a lot of the countries have a majority of their data missing. We have decided to exclude countries that have more than 70 per cent data missing, which is indicated by the red line in the graph."
   ]
  },
  {
   "cell_type": "code",
   "execution_count": 30,
   "id": "1fb3cb5e8ea9e615",
   "metadata": {},
   "outputs": [
    {
     "name": "stdout",
     "output_type": "stream",
     "text": [
      "43 countries removed from the data.\n"
     ]
    }
   ],
   "source": [
    "def nan_mean_excluding_marine(x):\n",
    "    # Exclude 'Marine Habitat Protection' if all NaN for this country\n",
    "    if 'Marine Habitat Protection' in x.columns and x['Marine Habitat Protection'].isna().all():\n",
    "        return x.drop(columns=['Marine Habitat Protection']).isna().mean().mean() * 100\n",
    "    else:\n",
    "        return x.isna().mean().mean() * 100\n",
    "before_excl = len(data[\"country\"].unique())\n",
    "# Compute missing-data percentage per country\n",
    "country_nan_percent = data.groupby('country')[cols_to_check].apply(nan_mean_excluding_marine)\n",
    "\n",
    "# Keep only countries with <= 30% missing data\n",
    "valid_countries = country_nan_percent[country_nan_percent <= 30].index\n",
    "\n",
    "# Filter the main DataFrame\n",
    "data = data[data['country'].isin(valid_countries)]\n",
    "after_excl = len(data[\"country\"].unique())\n",
    "\n",
    "print(f\"{before_excl - after_excl} countries removed from the data.\")"
   ]
  },
  {
   "cell_type": "markdown",
   "id": "140948509508e971",
   "metadata": {},
   "source": [
    "Now, we want to inspect the trends of missing data between different factors in our dataset."
   ]
  },
  {
   "cell_type": "code",
   "execution_count": 31,
   "id": "4177018f1872da0d",
   "metadata": {},
   "outputs": [
    {
     "data": {
      "image/png": "[encoded data removed]",
      "text/plain": [
       "<Figure size 1000x500 with 1 Axes>"
      ]
     },
     "metadata": {},
     "output_type": "display_data"
    },
    {
     "name": "stdout",
     "output_type": "stream",
     "text": [
      "\n",
      "Missing data percentage per column (sorted):\n",
      "Marine Habitat Protection                      19.411765\n",
      "GII                                            15.652174\n",
      "Population with secondary education, female     8.363171\n",
      "Labour force participation, female              7.877238\n",
      "Renewable energy share                          4.578005\n",
      "Species protection index                        4.117647\n",
      "Basic drinking water                            3.324808\n",
      "Shares of seats in the parliament, female       1.790281\n",
      "Air Polution SO2 trend                          1.176471\n",
      "Ambient PM2.5 from human resources              0.000000\n",
      "dtype: float64\n"
     ]
    }
   ],
   "source": [
    "# Get NaN values per column\n",
    "nan_per_column = data[cols_to_check].isna().mean() * 100\n",
    "nan_per_column_sorted = nan_per_column.sort_values(ascending=False)\n",
    "\n",
    "# Plot NaN values\n",
    "plt.figure(figsize=(10,5))\n",
    "plt.bar(nan_per_column_sorted.index, nan_per_column_sorted.values)\n",
    "plt.title(f'Percentage of Missing Data per Column')\n",
    "plt.xlabel('Column')\n",
    "plt.ylabel('Missing Data (%)')\n",
    "plt.xticks(rotation=45, ha='right')\n",
    "plt.grid(axis='y', linestyle='--', alpha=0.7)\n",
    "plt.tight_layout()\n",
    "plt.show()\n",
    "\n",
    "print(\"\\nMissing data percentage per column (sorted):\")\n",
    "print(nan_per_column_sorted)"
   ]
  },
  {
   "cell_type": "markdown",
   "id": "59ea65ee8cd30348",
   "metadata": {},
   "source": [
    "The highest factor in missing data is for Marine Habitat Protection. That is because there are landlocked countries, for example, Slovakia, which do not have access to seas or Oceans, and thus cannot have any marine habitat protection."
   ]
  },
  {
   "cell_type": "markdown",
   "id": "7705ef80712fc1e0",
   "metadata": {},
   "source": [
    "## 2.4 Uniformize data"
   ]
  },
  {
   "cell_type": "markdown",
   "id": "d4b65beb8565f988",
   "metadata": {},
   "source": [
    "Next, we look at the minimum and maximum values each column can obtain. All factors except for GII, are measured from 0 to 100. We have decided to multiply the GII by a factor of 100, as this will later help us visualize the results."
   ]
  },
  {
   "cell_type": "code",
   "execution_count": 32,
   "id": "cf8334d073d1ad7",
   "metadata": {},
   "outputs": [
    {
     "name": "stdout",
     "output_type": "stream",
     "text": [
      "                                         Column          Min            Max\n",
      "0                                       country  Afghanistan       Zimbabwe\n",
      "1                                          year         2000           2022\n",
      "2                          Basic drinking water    18.682303          100.0\n",
      "3                                           GII        0.004           0.84\n",
      "4            Labour force participation, female         5.72           94.4\n",
      "5   Population with secondary education, female     1.761277          100.0\n",
      "6     Shares of seats in the parliament, female          0.0       57.54717\n",
      "7                        Air Polution SO2 trend          0.0          100.0\n",
      "8            Ambient PM2.5 from human resources          0.0          100.0\n",
      "9                     Marine Habitat Protection          0.0          100.0\n",
      "10                     Species protection index          0.0          100.0\n",
      "11                       Renewable energy share          0.0           96.0\n",
      "12                                    continent       Africa  South America\n"
     ]
    }
   ],
   "source": [
    "# Print min and max values of each column\n",
    "min_max = data.agg(['min', 'max']).transpose().reset_index()\n",
    "min_max.columns = ['Column', 'Min', 'Max']\n",
    "print(min_max)\n",
    "\n",
    "# Multiply GII by a 100\n",
    "data['GII'] = data['GII'] * 100"
   ]
  },
  {
   "cell_type": "markdown",
   "id": "ba476574ab9ce053",
   "metadata": {},
   "source": [
    "## 2.5 Basic Stats"
   ]
  },
  {
   "cell_type": "markdown",
   "id": "db966d1cb794ec54",
   "metadata": {},
   "source": [
    "Next we tried to get a general overview of the numeric value columns"
   ]
  },
  {
   "cell_type": "code",
   "execution_count": 33,
   "id": "fcc51c2574d479d8",
   "metadata": {},
   "outputs": [
    {
     "data": {
      "text/html": [
       "<div>\n",
       "<style scoped>\n",
       "    .dataframe tbody tr th:only-of-type {\n",
       "        vertical-align: middle;\n",
       "    }\n",
       "\n",
       "    .dataframe tbody tr th {\n",
       "        vertical-align: top;\n",
       "    }\n",
       "\n",
       "    .dataframe thead th {\n",
       "        text-align: right;\n",
       "    }\n",
       "</style>\n",
       "<table border=\"1\" class=\"dataframe\">\n",
       "  <thead>\n",
       "    <tr style=\"text-align: right;\">\n",
       "      <th></th>\n",
       "      <th>year</th>\n",
       "      <th>Basic drinking water</th>\n",
       "      <th>GII</th>\n",
       "      <th>Labour force participation, female</th>\n",
       "      <th>Population with secondary education, female</th>\n",
       "      <th>Shares of seats in the parliament, female</th>\n",
       "      <th>Air Polution SO2 trend</th>\n",
       "      <th>Ambient PM2.5 from human resources</th>\n",
       "      <th>Marine Habitat Protection</th>\n",
       "      <th>Species protection index</th>\n",
       "      <th>Renewable energy share</th>\n",
       "    </tr>\n",
       "  </thead>\n",
       "  <tbody>\n",
       "    <tr>\n",
       "      <th>count</th>\n",
       "      <td>3910.000000</td>\n",
       "      <td>3780.000000</td>\n",
       "      <td>3298.000000</td>\n",
       "      <td>3602.000000</td>\n",
       "      <td>3583.000000</td>\n",
       "      <td>3840.000000</td>\n",
       "      <td>3864.000000</td>\n",
       "      <td>3910.000000</td>\n",
       "      <td>3151.000000</td>\n",
       "      <td>3749.000000</td>\n",
       "      <td>3731.000000</td>\n",
       "    </tr>\n",
       "    <tr>\n",
       "      <th>mean</th>\n",
       "      <td>2011.000000</td>\n",
       "      <td>85.716722</td>\n",
       "      <td>37.075591</td>\n",
       "      <td>50.124606</td>\n",
       "      <td>55.265431</td>\n",
       "      <td>18.876819</td>\n",
       "      <td>66.454451</td>\n",
       "      <td>43.563964</td>\n",
       "      <td>22.111933</td>\n",
       "      <td>36.525020</td>\n",
       "      <td>32.332485</td>\n",
       "    </tr>\n",
       "    <tr>\n",
       "      <th>std</th>\n",
       "      <td>6.634098</td>\n",
       "      <td>17.610250</td>\n",
       "      <td>19.620179</td>\n",
       "      <td>15.601038</td>\n",
       "      <td>30.642818</td>\n",
       "      <td>11.432121</td>\n",
       "      <td>32.417434</td>\n",
       "      <td>30.444452</td>\n",
       "      <td>22.481686</td>\n",
       "      <td>27.474321</td>\n",
       "      <td>29.029545</td>\n",
       "    </tr>\n",
       "    <tr>\n",
       "      <th>min</th>\n",
       "      <td>2000.000000</td>\n",
       "      <td>18.682303</td>\n",
       "      <td>0.400000</td>\n",
       "      <td>5.720000</td>\n",
       "      <td>1.761277</td>\n",
       "      <td>0.000000</td>\n",
       "      <td>0.000000</td>\n",
       "      <td>0.000000</td>\n",
       "      <td>0.000000</td>\n",
       "      <td>0.000000</td>\n",
       "      <td>0.000000</td>\n",
       "    </tr>\n",
       "    <tr>\n",
       "      <th>25%</th>\n",
       "      <td>2005.000000</td>\n",
       "      <td>77.797856</td>\n",
       "      <td>19.300000</td>\n",
       "      <td>41.802500</td>\n",
       "      <td>27.016138</td>\n",
       "      <td>10.000000</td>\n",
       "      <td>41.800000</td>\n",
       "      <td>19.700000</td>\n",
       "      <td>3.700000</td>\n",
       "      <td>13.000000</td>\n",
       "      <td>7.300000</td>\n",
       "    </tr>\n",
       "    <tr>\n",
       "      <th>50%</th>\n",
       "      <td>2011.000000</td>\n",
       "      <td>93.756772</td>\n",
       "      <td>38.100000</td>\n",
       "      <td>51.600000</td>\n",
       "      <td>56.299999</td>\n",
       "      <td>17.449664</td>\n",
       "      <td>70.850000</td>\n",
       "      <td>37.100000</td>\n",
       "      <td>16.000000</td>\n",
       "      <td>32.200000</td>\n",
       "      <td>23.900000</td>\n",
       "    </tr>\n",
       "    <tr>\n",
       "      <th>75%</th>\n",
       "      <td>2017.000000</td>\n",
       "      <td>99.124099</td>\n",
       "      <td>53.100000</td>\n",
       "      <td>59.207500</td>\n",
       "      <td>85.219448</td>\n",
       "      <td>25.903614</td>\n",
       "      <td>100.000000</td>\n",
       "      <td>64.850000</td>\n",
       "      <td>35.400000</td>\n",
       "      <td>57.400000</td>\n",
       "      <td>52.000000</td>\n",
       "    </tr>\n",
       "    <tr>\n",
       "      <th>max</th>\n",
       "      <td>2022.000000</td>\n",
       "      <td>100.000000</td>\n",
       "      <td>84.000000</td>\n",
       "      <td>94.400000</td>\n",
       "      <td>100.000000</td>\n",
       "      <td>57.547170</td>\n",
       "      <td>100.000000</td>\n",
       "      <td>100.000000</td>\n",
       "      <td>100.000000</td>\n",
       "      <td>100.000000</td>\n",
       "      <td>96.000000</td>\n",
       "    </tr>\n",
       "  </tbody>\n",
       "</table>\n",
       "</div>"
      ],
      "text/plain": [
       "              year  Basic drinking water          GII  \\\n",
       "count  3910.000000           3780.000000  3298.000000   \n",
       "mean   2011.000000             85.716722    37.075591   \n",
       "std       6.634098             17.610250    19.620179   \n",
       "min    2000.000000             18.682303     0.400000   \n",
       "25%    2005.000000             77.797856    19.300000   \n",
       "50%    2011.000000             93.756772    38.100000   \n",
       "75%    2017.000000             99.124099    53.100000   \n",
       "max    2022.000000            100.000000    84.000000   \n",
       "\n",
       "       Labour force participation, female  \\\n",
       "count                         3602.000000   \n",
       "mean                            50.124606   \n",
       "std                             15.601038   \n",
       "min                              5.720000   \n",
       "25%                             41.802500   \n",
       "50%                             51.600000   \n",
       "75%                             59.207500   \n",
       "max                             94.400000   \n",
       "\n",
       "       Population with secondary education, female  \\\n",
       "count                                  3583.000000   \n",
       "mean                                     55.265431   \n",
       "std                                      30.642818   \n",
       "min                                       1.761277   \n",
       "25%                                      27.016138   \n",
       "50%                                      56.299999   \n",
       "75%                                      85.219448   \n",
       "max                                     100.000000   \n",
       "\n",
       "       Shares of seats in the parliament, female  Air Polution SO2 trend  \\\n",
       "count                                3840.000000             3864.000000   \n",
       "mean                                   18.876819               66.454451   \n",
       "std                                    11.432121               32.417434   \n",
       "min                                     0.000000                0.000000   \n",
       "25%                                    10.000000               41.800000   \n",
       "50%                                    17.449664               70.850000   \n",
       "75%                                    25.903614              100.000000   \n",
       "max                                    57.547170              100.000000   \n",
       "\n",
       "       Ambient PM2.5 from human resources  Marine Habitat Protection  \\\n",
       "count                         3910.000000                3151.000000   \n",
       "mean                            43.563964                  22.111933   \n",
       "std                             30.444452                  22.481686   \n",
       "min                              0.000000                   0.000000   \n",
       "25%                             19.700000                   3.700000   \n",
       "50%                             37.100000                  16.000000   \n",
       "75%                             64.850000                  35.400000   \n",
       "max                            100.000000                 100.000000   \n",
       "\n",
       "       Species protection index  Renewable energy share  \n",
       "count               3749.000000             3731.000000  \n",
       "mean                  36.525020               32.332485  \n",
       "std                   27.474321               29.029545  \n",
       "min                    0.000000                0.000000  \n",
       "25%                   13.000000                7.300000  \n",
       "50%                   32.200000               23.900000  \n",
       "75%                   57.400000               52.000000  \n",
       "max                  100.000000               96.000000  "
      ]
     },
     "execution_count": 33,
     "metadata": {},
     "output_type": "execute_result"
    }
   ],
   "source": [
    "data.describe()"
   ]
  },
  {
   "cell_type": "markdown",
   "id": "1855bb82935b52d6",
   "metadata": {},
   "source": [
    "Next, we examine the number of missing values in the dataset to determine an appropriate method for handling them. This step is important because missing data can negatively impact analyses, particularly in machine learning applications."
   ]
  },
  {
   "cell_type": "code",
   "execution_count": 34,
   "id": "4b3a58c0fe75480",
   "metadata": {},
   "outputs": [
    {
     "data": {
      "text/plain": [
       "country                                          0\n",
       "year                                             0\n",
       "Basic drinking water                           130\n",
       "GII                                            612\n",
       "Labour force participation, female             308\n",
       "Population with secondary education, female    327\n",
       "Shares of seats in the parliament, female       70\n",
       "Air Polution SO2 trend                          46\n",
       "Ambient PM2.5 from human resources               0\n",
       "Marine Habitat Protection                      759\n",
       "Species protection index                       161\n",
       "Renewable energy share                         179\n",
       "continent                                        0\n",
       "dtype: int64"
      ]
     },
     "execution_count": 34,
     "metadata": {},
     "output_type": "execute_result"
    }
   ],
   "source": [
    "data.isna().sum()"
   ]
  },
  {
   "cell_type": "markdown",
   "id": "dbff4eff-b43e-4080-a17f-d1eae92fd58d",
   "metadata": {},
   "source": [
    "We can see that there is still a significant number of missing values. For 'Marine Habitat Protection' we decided to check if the values are missing for a country entirely. If that is the case we decided to replace the values with 100 as we assume it is a landlcked country and therefore does not have any entries. The other columns we interpolated the values linearly for each country based on the exisiting years."
   ]
  },
  {
   "cell_type": "code",
   "execution_count": 37,
   "id": "1f1b59b8-b518-4c55-8c44-99ceb2c1a7fc",
   "metadata": {},
   "outputs": [
    {
     "data": {
      "text/plain": [
       "country                                          0\n",
       "year                                             0\n",
       "Basic drinking water                            46\n",
       "GII                                            207\n",
       "Labour force participation, female              69\n",
       "Population with secondary education, female     69\n",
       "Shares of seats in the parliament, female        0\n",
       "Air Polution SO2 trend                          46\n",
       "Ambient PM2.5 from human resources               0\n",
       "Marine Habitat Protection                        0\n",
       "Species protection index                       161\n",
       "Renewable energy share                          46\n",
       "continent                                        0\n",
       "dtype: int64"
      ]
     },
     "execution_count": 37,
     "metadata": {},
     "output_type": "execute_result"
    }
   ],
   "source": [
    "# fill landlock with 100 so if  acountry has only emty values for marine habitant then they are most likely landlocked and therefore we put 100 for all \n",
    "def fill_marine_habitat(group):\n",
    "    if group['Marine Habitat Protection'].isna().all():\n",
    "        group['Marine Habitat Protection'] = 100\n",
    "    return group\n",
    "\n",
    "data = data.groupby('country', group_keys=False).apply(fill_marine_habitat)\n",
    "\n",
    "# Interpolate missing values per country based on previous and next year\n",
    "data = (\n",
    "    data.sort_values(['country', 'year'])\n",
    "        .groupby('country', group_keys=False)\n",
    "        .apply(lambda g: g.interpolate(method='linear', limit_direction='both'))\n",
    ")\n",
    "\n",
    "data.isna().sum()"
   ]
  },
  {
   "cell_type": "markdown",
   "id": "0953b0c5-b348-4e88-b476-d6e3fe3e002c",
   "metadata": {},
   "source": [
    "After doing this we still have missing values. This can be caused when countries are completely missing entries for a columns and therfore it is not possiblle to interpolate. In these cases we decided to fill the values with the mean of the according continent for each year. This is a limitation beause it is a strong assumtion to fill the values simply based on the continent without considering differences within continents."
   ]
  },
  {
   "cell_type": "code",
   "execution_count": 38,
   "id": "209eadeb-0d2b-4cc4-97ce-c8ca484728f9",
   "metadata": {},
   "outputs": [
    {
     "ename": "KeyError",
     "evalue": "\"Columns not found: 'Population with secondary education', 'Labour force participation'\"",
     "output_type": "error",
     "traceback": [
      "\u001b[31m---------------------------------------------------------------------------\u001b[39m",
      "\u001b[31mKeyError\u001b[39m                                  Traceback (most recent call last)",
      "\u001b[36mCell\u001b[39m\u001b[36m \u001b[39m\u001b[32mIn[38]\u001b[39m\u001b[32m, line 13\u001b[39m\n\u001b[32m      1\u001b[39m cols = [\n\u001b[32m      2\u001b[39m     \u001b[33m'\u001b[39m\u001b[33mRenewable energy share\u001b[39m\u001b[33m'\u001b[39m,\n\u001b[32m      3\u001b[39m     \u001b[33m'\u001b[39m\u001b[33mBasic drinking water\u001b[39m\u001b[33m'\u001b[39m,\n\u001b[32m   (...)\u001b[39m\u001b[32m      8\u001b[39m     \u001b[33m'\u001b[39m\u001b[33mSpecies protection index\u001b[39m\u001b[33m'\u001b[39m\n\u001b[32m      9\u001b[39m ]\n\u001b[32m     11\u001b[39m \u001b[38;5;66;03m# Check per country if all values in a column are missing\u001b[39;00m\n\u001b[32m     12\u001b[39m missing_summary = (\n\u001b[32m---> \u001b[39m\u001b[32m13\u001b[39m     \u001b[43mdata\u001b[49m\u001b[43m.\u001b[49m\u001b[43mgroupby\u001b[49m\u001b[43m(\u001b[49m\u001b[33;43m'\u001b[39;49m\u001b[33;43mcountry\u001b[39;49m\u001b[33;43m'\u001b[39;49m\u001b[43m)\u001b[49m\u001b[43m[\u001b[49m\u001b[43mcols\u001b[49m\u001b[43m]\u001b[49m\n\u001b[32m     14\u001b[39m         .apply(\u001b[38;5;28;01mlambda\u001b[39;00m g: g.isna().all())\n\u001b[32m     15\u001b[39m )\n\u001b[32m     17\u001b[39m \u001b[38;5;28mprint\u001b[39m(\u001b[33m\"\u001b[39m\u001b[33mNumber of countries entirely missing per indicator:\u001b[39m\u001b[33m\"\u001b[39m)\n\u001b[32m     18\u001b[39m \u001b[38;5;28mprint\u001b[39m(missing_summary.sum())\n",
      "\u001b[36mFile \u001b[39m\u001b[32m~\\AppData\\Local\\Programs\\Python\\Python312\\Lib\\site-packages\\pandas\\core\\groupby\\generic.py:1951\u001b[39m, in \u001b[36mDataFrameGroupBy.__getitem__\u001b[39m\u001b[34m(self, key)\u001b[39m\n\u001b[32m   1944\u001b[39m \u001b[38;5;28;01mif\u001b[39;00m \u001b[38;5;28misinstance\u001b[39m(key, \u001b[38;5;28mtuple\u001b[39m) \u001b[38;5;129;01mand\u001b[39;00m \u001b[38;5;28mlen\u001b[39m(key) > \u001b[32m1\u001b[39m:\n\u001b[32m   1945\u001b[39m     \u001b[38;5;66;03m# if len == 1, then it becomes a SeriesGroupBy and this is actually\u001b[39;00m\n\u001b[32m   1946\u001b[39m     \u001b[38;5;66;03m# valid syntax, so don't raise\u001b[39;00m\n\u001b[32m   1947\u001b[39m     \u001b[38;5;28;01mraise\u001b[39;00m \u001b[38;5;167;01mValueError\u001b[39;00m(\n\u001b[32m   1948\u001b[39m         \u001b[33m\"\u001b[39m\u001b[33mCannot subset columns with a tuple with more than one element. \u001b[39m\u001b[33m\"\u001b[39m\n\u001b[32m   1949\u001b[39m         \u001b[33m\"\u001b[39m\u001b[33mUse a list instead.\u001b[39m\u001b[33m\"\u001b[39m\n\u001b[32m   1950\u001b[39m     )\n\u001b[32m-> \u001b[39m\u001b[32m1951\u001b[39m \u001b[38;5;28;01mreturn\u001b[39;00m \u001b[38;5;28;43msuper\u001b[39;49m\u001b[43m(\u001b[49m\u001b[43m)\u001b[49m\u001b[43m.\u001b[49m\u001b[34;43m__getitem__\u001b[39;49m\u001b[43m(\u001b[49m\u001b[43mkey\u001b[49m\u001b[43m)\u001b[49m\n",
      "\u001b[36mFile \u001b[39m\u001b[32m~\\AppData\\Local\\Programs\\Python\\Python312\\Lib\\site-packages\\pandas\\core\\base.py:240\u001b[39m, in \u001b[36mSelectionMixin.__getitem__\u001b[39m\u001b[34m(self, key)\u001b[39m\n\u001b[32m    238\u001b[39m     \u001b[38;5;28;01mif\u001b[39;00m \u001b[38;5;28mlen\u001b[39m(\u001b[38;5;28mself\u001b[39m.obj.columns.intersection(key)) != \u001b[38;5;28mlen\u001b[39m(\u001b[38;5;28mset\u001b[39m(key)):\n\u001b[32m    239\u001b[39m         bad_keys = \u001b[38;5;28mlist\u001b[39m(\u001b[38;5;28mset\u001b[39m(key).difference(\u001b[38;5;28mself\u001b[39m.obj.columns))\n\u001b[32m--> \u001b[39m\u001b[32m240\u001b[39m         \u001b[38;5;28;01mraise\u001b[39;00m \u001b[38;5;167;01mKeyError\u001b[39;00m(\u001b[33mf\u001b[39m\u001b[33m\"\u001b[39m\u001b[33mColumns not found: \u001b[39m\u001b[38;5;132;01m{\u001b[39;00m\u001b[38;5;28mstr\u001b[39m(bad_keys)[\u001b[32m1\u001b[39m:-\u001b[32m1\u001b[39m]\u001b[38;5;132;01m}\u001b[39;00m\u001b[33m\"\u001b[39m)\n\u001b[32m    241\u001b[39m     \u001b[38;5;28;01mreturn\u001b[39;00m \u001b[38;5;28mself\u001b[39m._gotitem(\u001b[38;5;28mlist\u001b[39m(key), ndim=\u001b[32m2\u001b[39m)\n\u001b[32m    243\u001b[39m \u001b[38;5;28;01melse\u001b[39;00m:\n",
      "\u001b[31mKeyError\u001b[39m: \"Columns not found: 'Population with secondary education', 'Labour force participation'\""
     ]
    }
   ],
   "source": [
    "cols = [\n",
    "    'Renewable energy share',\n",
    "    'Basic drinking water',\n",
    "    'GII',\n",
    "    'Labour force participation, female',\n",
    "    'Population with secondary education, female',\n",
    "    'Air Polution SO2 trend',\n",
    "    'Species protection index'\n",
    "]\n",
    "\n",
    "# Check per country if all values in a column are missing\n",
    "missing_summary = (\n",
    "    data.groupby('country')[cols]\n",
    "        .apply(lambda g: g.isna().all())\n",
    ")\n",
    "\n",
    "print(\"Number of countries entirely missing per indicator:\")\n",
    "print(missing_summary.sum())"
   ]
  },
  {
   "cell_type": "code",
   "execution_count": null,
   "id": "cc38d054-8d3c-4687-bfce-d6829ef31b80",
   "metadata": {},
   "outputs": [],
   "source": [
    "for col in cols:\n",
    "    data[col] = data.groupby(['continent', 'year'])[col].transform(\n",
    "        lambda x: x.fillna(x.mean())\n",
    "    )"
   ]
  },
  {
   "cell_type": "code",
   "execution_count": null,
   "id": "e8235733-6a96-41a0-938b-2b0211ea0629",
   "metadata": {},
   "outputs": [],
   "source": [
    "data.isna().sum()"
   ]
  },
  {
   "cell_type": "markdown",
   "id": "b0f49e536ac56bb1",
   "metadata": {},
   "source": [
    "# ADD MISSING VALUES"
   ]
  },
  {
   "cell_type": "markdown",
   "id": "5a36bd212cadf955",
   "metadata": {},
   "source": [
    "# 3. Data Exploration\n",
    "## 3.1 Distribution and Outliers\n",
    "We start by getting a general idea for the values of our data set by plotting histograms and boxplots. With this we understand the distribution of values and can also see possible outliers."
   ]
  },
  {
   "cell_type": "code",
   "execution_count": null,
   "id": "80481afcbb029c11",
   "metadata": {},
   "outputs": [],
   "source": [
    "numeric_cols = [col for col in data.select_dtypes(include=np.number).columns if col not in ['year']]\n",
    "data[numeric_cols].hist(figsize=(15,10), bins=20)"
   ]
  },
  {
   "cell_type": "markdown",
   "id": "758ee1d0bb46a07b",
   "metadata": {},
   "source": [
    "## 3.2 Continent & Country Analysis\n",
    "\n",
    "Are some continents over or under represented"
   ]
  },
  {
   "cell_type": "code",
   "execution_count": null,
   "id": "7b965b68a09423d",
   "metadata": {},
   "outputs": [],
   "source": [
    "data['continent'].value_counts().plot(kind='bar', title='Number of observations per continent')\n",
    "plt.show()"
   ]
  },
  {
   "cell_type": "markdown",
   "id": "5dd12c8a5ec4808",
   "metadata": {},
   "source": [
    "Is there generally a difference between continents and does it make sense to explore this."
   ]
  },
  {
   "cell_type": "code",
   "execution_count": null,
   "id": "94e95b7a45302251",
   "metadata": {},
   "outputs": [],
   "source": [
    "fig, axes = plt.subplots(3, 4, figsize=(20, 15))\n",
    "axes = axes.flatten()\n",
    "\n",
    "for i, col in enumerate(numeric_cols):\n",
    "    sns.boxplot(data=data, x='continent', y=col, ax=axes[i])\n",
    "    axes[i].set_title(col)\n",
    "    axes[i].set_xlabel(\"\")\n",
    "\n",
    "for j in range(i+1, len(axes)):\n",
    "    fig.delaxes(axes[j])\n",
    "\n",
    "plt.tight_layout()\n",
    "plt.show()"
   ]
  },
  {
   "cell_type": "code",
   "execution_count": null,
   "id": "12fa06debbfa7666",
   "metadata": {},
   "outputs": [],
   "source": [
    "import plotly.express as px\n",
    "\n",
    "fig = px.choropleth(\n",
    "    data_frame=data,\n",
    "    locations=\"country\",\n",
    "    locationmode=\"country names\",\n",
    "    color=\"GII\",\n",
    "    hover_name=\"country\",\n",
    "    animation_frame=\"year\",\n",
    "    color_continuous_scale=\"Viridis\",\n",
    "    title=\"Global Gender Inequality Index (GII) over time\"\n",
    ")\n",
    "\n",
    "# set the layout of the figure\n",
    "fig.update_layout(\n",
    "    width=1200,      \n",
    "    height=700,      \n",
    "    coloraxis_colorbar=dict(\n",
    "        title=\"GII\",    \n",
    "        thickness=25,  \n",
    "        lenmode=\"fraction\",\n",
    "        len=0.8        \n",
    "    ),\n",
    "    title=dict(font=dict(size=20))  \n",
    ")\n",
    "\n",
    "fig.show()\n"
   ]
  },
  {
   "cell_type": "markdown",
   "id": "14386304f96217c7",
   "metadata": {},
   "source": [
    "## 3.3 Correlation"
   ]
  },
  {
   "cell_type": "code",
   "execution_count": null,
   "id": "65f4150177737c90",
   "metadata": {},
   "outputs": [],
   "source": [
    "corr_matrix = data[numeric_cols].corr()\n",
    "\n",
    "plt.figure(figsize=(8,6))\n",
    "sns.heatmap(corr_matrix, annot=True, cmap='coolwarm')\n",
    "plt.title('Correlation Matrix')\n",
    "plt.show()"
   ]
  },
  {
   "cell_type": "code",
   "execution_count": null,
   "id": "20ce2601f9d9a0cf",
   "metadata": {},
   "outputs": [],
   "source": [
    "data_2022 = data[data[\"year\"] == 2022]\n",
    "\n",
    "# Compute correlation matrix\n",
    "corr = data_2022[numeric_cols].corr()\n",
    "\n",
    "# Find pairs with high correlation (> 0.7)\n",
    "high_corr = []\n",
    "for col1 in corr.columns:\n",
    "    for col2 in corr.columns:\n",
    "        if col1 != col2 and abs(corr.loc[col1, col2]) > 0.7:\n",
    "            pair = tuple(sorted([col1, col2]))\n",
    "            if pair not in high_corr:\n",
    "                high_corr.append(pair)\n",
    "\n",
    "# Plot scatterplots for highly correlated pairs\n",
    "for col1, col2 in high_corr:\n",
    "    plt.figure(figsize=(8,6))\n",
    "    sns.scatterplot(data=data_2022, x=col1, y=col2, hue='continent')\n",
    "    plt.title(f'Scatterplot: {col1} vs {col2}\\nCorrelation: {corr.loc[col1, col2]:.2f}')\n",
    "    plt.xlabel(col1)\n",
    "    plt.ylabel(col2)\n",
    "    plt.legend(title='Continent')\n",
    "    plt.show()\n"
   ]
  },
  {
   "cell_type": "code",
   "execution_count": null,
   "id": "685102faa63b3818",
   "metadata": {},
   "outputs": [],
   "source": [
    "from math import ceil\n",
    "\n",
    "corr = data[numeric_cols].corr()\n",
    "\n",
    "# Relationships with 0.5 < correlation <= 0.7\n",
    "high_corr = []\n",
    "for col1 in corr.columns:\n",
    "    for col2 in corr.columns:\n",
    "        if col1 != col2 and 0.5 < abs(corr.loc[col1, col2]) :\n",
    "            pair = tuple(sorted([col1, col2]))\n",
    "            if pair not in high_corr:\n",
    "                high_corr.append(pair)\n",
    "\n",
    "n_cols = 4\n",
    "n_rows = ceil(len(high_corr)/n_cols)\n",
    "fig, axes = plt.subplots(n_rows, n_cols, figsize=(5*n_cols, 4*n_rows))\n",
    "axes = axes.flatten()\n",
    "\n",
    "# Plot each pair\n",
    "for i, (x_col, y_col) in enumerate(high_corr):\n",
    "    sns.scatterplot(data=data, x=x_col, y=y_col, hue='continent', ax=axes[i])\n",
    "    axes[i].set_xlabel(x_col)\n",
    "    axes[i].set_ylabel(y_col)\n",
    "    axes[i].set_title(f'Corr: {corr.loc[x_col, y_col]:.2f}')\n",
    "    axes[i].legend_.remove()  \n",
    "\n",
    "# Remove any unused axes\n",
    "for j in range(i+1, len(axes)):\n",
    "    fig.delaxes(axes[j])\n",
    "\n",
    "# Single legend\n",
    "handles, labels = axes[0].get_legend_handles_labels()\n",
    "fig.legend(handles, labels, bbox_to_anchor=(1.02, 0.9), loc='upper left', title='Continent')\n",
    "\n",
    "plt.tight_layout()\n",
    "plt.show()"
   ]
  },
  {
   "cell_type": "markdown",
   "id": "b5ddd0ae8783997b",
   "metadata": {},
   "source": [
    "## 3.4 Temporal Trends"
   ]
  },
  {
   "cell_type": "code",
   "execution_count": null,
   "id": "217c3799aa8312f7",
   "metadata": {},
   "outputs": [],
   "source": [
    "country_name = 'Lesotho'  \n",
    "\n",
    "country_df = data[data['country'] == country_name]\n",
    " \n",
    "\n",
    "plot_df = country_df.melt(id_vars='year', value_vars=numeric_cols, \n",
    "                          var_name='Indicator', value_name='Value')\n",
    "\n",
    "plt.figure(figsize=(12,6))\n",
    "sns.lineplot(data=plot_df, x='year', y='Value', hue='Indicator', marker='o')\n",
    "plt.title(f'Development over time for {country_name}')\n",
    "plt.xlabel('Year')\n",
    "plt.ylabel('Value')\n",
    "plt.legend(bbox_to_anchor=(1.05, 1), loc='upper left') \n",
    "plt.tight_layout()\n",
    "plt.show()"
   ]
  },
  {
   "cell_type": "code",
   "execution_count": null,
   "id": "a344316646eae15b",
   "metadata": {},
   "outputs": [],
   "source": [
    "continents = data['continent'].unique()\n",
    "\n",
    "# Grid layout\n",
    "n_cols = 3\n",
    "n_rows = int(np.ceil(len(continents)/n_cols))\n",
    "fig, axes = plt.subplots(n_rows, n_cols, figsize=(16, 5*n_rows))\n",
    "axes = axes.flatten()\n",
    "\n",
    "for i, continent in enumerate(continents):\n",
    "    continent_df = data[data['continent'] == continent]\n",
    "    yearly_mean = continent_df.groupby('year')[numeric_cols].mean()\n",
    "    \n",
    "    # Plot each indicator\n",
    "    for col in numeric_cols:\n",
    "        axes[i].plot(yearly_mean.index, yearly_mean[col], marker='o', label=col)\n",
    "    \n",
    "    axes[i].set_title(continent)\n",
    "    axes[i].set_xlabel('Year')\n",
    "    axes[i].set_ylabel('Value')\n",
    "\n",
    "# Single legend\n",
    "fig.legend(numeric_cols, bbox_to_anchor=(1.02, 0.9), loc='upper left', title='Indicator')\n",
    "\n",
    "plt.tight_layout()\n",
    "plt.show()\n"
   ]
  },
  {
   "cell_type": "code",
   "execution_count": null,
   "id": "d68ab411f8a45b04",
   "metadata": {},
   "outputs": [],
   "source": [
    "continents = data['continent'].unique()\n",
    "years = sorted(data['year'].unique())\n",
    "\n",
    "plt.figure(figsize=(12,6))\n",
    "\n",
    "for continent in continents:\n",
    "    correlations = []\n",
    "    df_cont = data[data['continent'] == continent]\n",
    "    \n",
    "    for year in years:\n",
    "        df_year = df_cont[df_cont['year'] == year][['GII', 'Renewable energy share']].dropna()\n",
    "        if len(df_year) > 1:\n",
    "            corr = df_year['GII'].corr(df_year['Renewable energy share'])\n",
    "            correlations.append(corr)\n",
    "        else:\n",
    "            correlations.append(None)\n",
    "    \n",
    "    plt.plot(years, correlations, marker='o', label=continent)\n",
    "\n",
    "plt.title('Correlation between GII and Renewable Energy Share over time by Continent')\n",
    "plt.xlabel('Year')\n",
    "plt.ylabel('Correlation')\n",
    "plt.ylim(-1,1)\n",
    "plt.grid(True)\n",
    "plt.legend(title='Continent')\n",
    "plt.show()\n",
    "\n"
   ]
  },
  {
   "cell_type": "markdown",
   "id": "6ef6332692c5d21a",
   "metadata": {},
   "source": [
    "# 4. Machine Learning"
   ]
  },
  {
   "cell_type": "markdown",
   "id": "12d979af52eeaba0",
   "metadata": {},
   "source": [
    "First we will do a clustering analysis of gender equality and environmental sustainability overtime, comparing the clusters from the first year in the data set to the ones of the last year."
   ]
  },
  {
   "cell_type": "code",
   "execution_count": null,
   "id": "10cd9fb96b3319d1",
   "metadata": {},
   "outputs": [],
   "source": [
    "oldest_idx = data.groupby('country')['year'].idxmin()\n",
    "latest_idx = data.groupby('country')['year'].idxmax()\n",
    "\n",
    "oldest = data.loc[oldest_idx, ['country'] + numeric_cols].set_index('country')\n",
    "latest = data.loc[latest_idx, ['country'] + numeric_cols].set_index('country')\n"
   ]
  },
  {
   "cell_type": "code",
   "execution_count": null,
   "id": "86c0061a978625a0",
   "metadata": {},
   "outputs": [],
   "source": [
    "def cluster_and_plot(df, n_clusters=3, title='Clusters'):\n",
    "\n",
    "    scaler = StandardScaler()\n",
    "    X_scaled = scaler.fit_transform(df)\n",
    "\n",
    "    kmeans = KMeans(n_clusters=n_clusters, random_state=42)\n",
    "    labels = kmeans.fit_predict(X_scaled)\n",
    "\n",
    "    pca = PCA(n_components=2)\n",
    "    X_pca = pca.fit_transform(X_scaled)\n",
    "\n",
    "    plt.figure(figsize=(8,6))\n",
    "    plt.scatter(X_pca[:,0], X_pca[:,1], c=labels, cmap='Set2', s=50, alpha=0.7)\n",
    "    plt.title(title)\n",
    "    plt.xlabel('PCA 1')\n",
    "    plt.ylabel('PCA 2')\n",
    "    plt.show()\n",
    "\n",
    "    return labels"
   ]
  },
  {
   "cell_type": "code",
   "execution_count": null,
   "id": "44846deeed2e39b2",
   "metadata": {},
   "outputs": [],
   "source": [
    "latest_labels = cluster_and_plot(latest, n_clusters=3, title='Clusters: Latest Year')\n",
    "oldest_labels = cluster_and_plot(oldest, n_clusters=3, title='Clusters: Oldest Year')"
   ]
  },
  {
   "cell_type": "code",
   "execution_count": null,
   "id": "82ed6b88d675cb57",
   "metadata": {},
   "outputs": [],
   "source": [
    "def analyze_clusters(df, labels, dataset_name='Dataset'):\n",
    "    df = df.copy()\n",
    "    df['Cluster'] = labels\n",
    "\n",
    "    print(f\"Cluster Analysis: {dataset_name}\")\n",
    "    print(df.groupby('Cluster').mean().round(2))\n",
    "    print(df.groupby('Cluster').std().round(2))\n",
    "    print(df['Cluster'].value_counts())\n",
    "\n",
    "analyze_clusters(latest, latest_labels, dataset_name='Latest Year')\n",
    "analyze_clusters(oldest, oldest_labels, dataset_name='Oldest Year')"
   ]
  },
  {
   "cell_type": "markdown",
   "id": "5b84f1d2b5c96e2f",
   "metadata": {},
   "source": [
    "# Old Stuff"
   ]
  },
  {
   "cell_type": "markdown",
   "id": "b1e5826bbb737156",
   "metadata": {},
   "source": [
    "### Renewable energy share"
   ]
  },
  {
   "cell_type": "code",
   "execution_count": null,
   "id": "d3eeb1f4012ce5f6",
   "metadata": {},
   "outputs": [],
   "source": [
    "top_countries = data.groupby('country')['Renewable energy share'].mean().sort_values(ascending=False).head(10)\n",
    "sns.barplot(x=top_countries.index, y=top_countries.values)\n",
    "plt.xticks(rotation=45)\n",
    "plt.title('Top 10 Countries by Renewable Energy Share')\n",
    "plt.ylabel('Renewable Energy Share')\n",
    "plt.ylim(85, 100)\n",
    "plt.xlabel('Country')\n",
    "plt.show()"
   ]
  },
  {
   "cell_type": "code",
   "execution_count": null,
   "id": "2d44a89f3c9a0db7",
   "metadata": {},
   "outputs": [],
   "source": [
    "bottom_countries = (\n",
    "    data[data['Renewable energy share'] > 0]\n",
    "    .groupby('country')['Renewable energy share']\n",
    "    .mean()\n",
    "    .sort_values(ascending=True)\n",
    "    .head(10)\n",
    ")\n",
    "sns.barplot(x=bottom_countries.index, y=bottom_countries.values)\n",
    "plt.xticks(rotation=45)\n",
    "plt.title('Bottom 10 Countries by Renewable Energy Share (Excluding Zero)')\n",
    "plt.ylabel('Renewable Energy Share')\n",
    "plt.xlabel('Country')\n",
    "plt.show()"
   ]
  },
  {
   "cell_type": "code",
   "execution_count": null,
   "id": "bcf4cf202352669e",
   "metadata": {},
   "outputs": [],
   "source": [
    "sns.boxplot(data=merged, x='continent', y='Renewable_Energy_Share')\n",
    "plt.title('Renewable Energy Share by Continent')\n",
    "plt.ylabel('Renewable Energy Share')\n",
    "plt.xlabel('Continent')\n",
    "plt.show()"
   ]
  },
  {
   "cell_type": "markdown",
   "id": "e3d2dbe64b0cb11",
   "metadata": {},
   "source": [
    "### GII"
   ]
  },
  {
   "cell_type": "code",
   "execution_count": null,
   "id": "f3cfbe3fa89cda60",
   "metadata": {},
   "outputs": [],
   "source": [
    "top_countries = merged.groupby('country')['GII'].mean().sort_values(ascending=False).head(10)\n",
    "sns.barplot(x=top_countries.index, y=top_countries.values)\n",
    "plt.xticks(rotation=45)\n",
    "plt.title('Top 10 Countries by GII')\n",
    "plt.ylabel('GII')\n",
    "plt.xlabel('Country')\n",
    "plt.show()"
   ]
  },
  {
   "cell_type": "code",
   "execution_count": null,
   "id": "3919a3707e5c0930",
   "metadata": {},
   "outputs": [],
   "source": [
    "bottom_countries = merged.groupby('country')['GII'].mean().sort_values(ascending=True).head(10)\n",
    "sns.barplot(x=bottom_countries.index, y=bottom_countries.values)\n",
    "plt.xticks(rotation=45)\n",
    "plt.title('Bottom 10 Countries by GII')\n",
    "plt.ylabel('GII')\n",
    "plt.xlabel('Country')\n",
    "plt.show()"
   ]
  },
  {
   "cell_type": "code",
   "execution_count": null,
   "id": "6bce6641bd4c65c7",
   "metadata": {},
   "outputs": [],
   "source": [
    "sns.boxplot(data=merged, x='continent', y='GII')\n",
    "plt.title('GII by Continent')\n",
    "plt.ylabel('GII')\n",
    "plt.xlabel('Continent')\n",
    "plt.show()"
   ]
  },
  {
   "cell_type": "markdown",
   "id": "bdb88da2ad020958",
   "metadata": {},
   "source": [
    "### Let's see their relation"
   ]
  },
  {
   "cell_type": "code",
   "execution_count": null,
   "id": "a15cd7593af8dd14",
   "metadata": {},
   "outputs": [],
   "source": [
    "plt.figure(figsize=(10,6))\n",
    "sns.scatterplot(data=data, x='Renewable energy share', y='GII', legend=True)\n",
    "plt.title('Relationship between Gender Inequality Index (GII) and Renewable Energy Share')\n",
    "plt.xlabel('Renewable Energy Share')\n",
    "plt.ylabel('Gender Inequality Index (GII)')\n",
    "plt.show()"
   ]
  },
  {
   "cell_type": "markdown",
   "id": "9b29ea6370acf0ed",
   "metadata": {},
   "source": [
    "### Correlation exploration"
   ]
  },
  {
   "cell_type": "code",
   "execution_count": null,
   "id": "f2d44541117b82de",
   "metadata": {},
   "outputs": [],
   "source": [
    "plt.figure(figsize=(8,6))\n",
    "sns.heatmap(data.corr(numeric_only=True), annot=True, cmap='coolwarm')\n",
    "\n",
    "plt.title('Correlation Matrix')\n",
    "plt.show()"
   ]
  },
  {
   "cell_type": "code",
   "execution_count": null,
   "id": "a25221837f62b7c2",
   "metadata": {},
   "outputs": [],
   "source": [
    "corr = merged[merged[\"year\"]==2022].corr(numeric_only=True)\n",
    "\n",
    "# Relationships with correlation > 0.7\n",
    "high_corr = []\n",
    "for col1 in corr.columns:\n",
    "    for col2 in corr.columns:\n",
    "        if col1 != col2 and abs(corr.loc[col1, col2]) > 0.7:\n",
    "            pair = tuple(sorted([col1, col2]))\n",
    "            if pair not in high_corr:\n",
    "                high_corr.append(pair)\n",
    "\n",
    "for col1, col2 in high_corr:\n",
    "    sns.scatterplot(data=merged, x=col1, y=col2, hue='continent', legend=True)\n",
    "    plt.title(f'Scatterplot: {col1} vs {col2}\\nCorrelation: {corr.loc[col1, col2]:.2f}')\n",
    "    plt.xlabel(col1)\n",
    "    plt.ylabel(col2)\n",
    "    plt.show()"
   ]
  },
  {
   "cell_type": "code",
   "execution_count": null,
   "id": "c32d71613701b079",
   "metadata": {},
   "outputs": [],
   "source": [
    "corr = merged.corr(numeric_only=True)\n",
    "\n",
    "# Relationships with 0.5 < correlation <= 0.7\n",
    "medium_corr = []\n",
    "for col1 in corr.columns:\n",
    "    for col2 in corr.columns:\n",
    "        if col1 != col2 and 0.5 < abs(corr.loc[col1, col2]) <= 0.7:\n",
    "            pair = tuple(sorted([col1, col2]))\n",
    "            if pair not in medium_corr:\n",
    "                medium_corr.append(pair)\n",
    "\n",
    "for col1, col2 in medium_corr:\n",
    "    sns.scatterplot(data=merged, x=col1, y=col2, hue='continent', legend=True)\n",
    "    plt.title(f'Scatterplot: {col1} vs {col2}\\nCorrelation: {corr.loc[col1, col2]:.2f}')\n",
    "    plt.xlabel(col1)\n",
    "    plt.ylabel(col2)\n",
    "    plt.show()"
   ]
  },
  {
   "cell_type": "markdown",
   "id": "337c08a6d11ec34c",
   "metadata": {},
   "source": [
    "## GII Correlation"
   ]
  },
  {
   "cell_type": "code",
   "execution_count": null,
   "id": "f6967b31d254e391",
   "metadata": {},
   "outputs": [],
   "source": [
    "sns.pairplot(merged[['GII', \n",
    "                     'Labour force participation', \n",
    "                     'Shares of seats in the parliament', \n",
    "                     'population with secondary education', \n",
    "                     'continent']], \n",
    "             hue='continent')\n",
    "plt.show()\n"
   ]
  },
  {
   "cell_type": "code",
   "execution_count": null,
   "id": "b89b328beee3a31",
   "metadata": {},
   "outputs": [],
   "source": [
    "import ipywidgets as widgets\n",
    "from IPython.display import display\n",
    "\n",
    "variables = ['Labour force participation',\n",
    "             'Shares of seats in the parliament',\n",
    "             'population with secondary education']\n",
    "\n",
    "agg_df = merged.groupby('country')[variables + ['GII']].mean().reset_index()\n",
    "\n",
    "for var in variables:\n",
    "    min_val = agg_df[var].min()\n",
    "    max_val = agg_df[var].max()\n",
    "    agg_df[var] = (agg_df[var] - min_val) / (max_val - min_val)\n",
    "\n",
    "\n",
    "def update_plot(w1, w2, w3):\n",
    "    total = w1 + w2 + w3\n",
    "    if total == 0:\n",
    "        return\n",
    "    w1, w2, w3 = w1/total, w2/total, w3/total\n",
    "\n",
    "    agg_df['weighted_indecators'] = (w1*agg_df[variables[0]] +\n",
    "                                    w2*agg_df[variables[1]] +\n",
    "                                    w3*agg_df[variables[2]])\n",
    "    \n",
    "    corr = agg_df['weighted_indecators'].corr(agg_df['GII'])\n",
    "    \n",
    "    plt.figure(figsize=(8,6))\n",
    "    sns.scatterplot(data=agg_df, x='weighted_indecators', y='GII', s=100)\n",
    "    plt.title(f'Weighted Indicators vs GII\\nCorrelation: {corr:.2f}')\n",
    "    plt.xlabel('Weighted Indicator')\n",
    "    plt.ylabel('GII')\n",
    "    plt.show()\n",
    "\n",
    "w1_slider = widgets.FloatSlider(value=0.33, min=0, max=1, step=0.05, description='Labour')\n",
    "w2_slider = widgets.FloatSlider(value=0.33, min=0, max=1, step=0.05, description='Parliament')\n",
    "w3_slider = widgets.FloatSlider(value=0.34, min=0, max=1, step=0.05, description='Education')\n",
    "\n",
    "sliders = widgets.VBox([w1_slider, w2_slider, w3_slider])\n",
    "figure = widgets.interactive_output(update_plot, {'w1': w1_slider, 'w2': w2_slider, 'w3': w3_slider})\n",
    "\n",
    "display(sliders, figure)\n"
   ]
  }
 ],
 "metadata": {
  "kernelspec": {
   "display_name": "Python 3 (ipykernel)",
   "language": "python",
   "name": "python3"
  },
  "language_info": {
   "codemirror_mode": {
    "name": "ipython",
    "version": 3
   },
   "file_extension": ".py",
   "mimetype": "text/x-python",
   "name": "python",
   "nbconvert_exporter": "python",
   "pygments_lexer": "ipython3",
   "version": "3.12.0"
  }
 },
 "nbformat": 4,
 "nbformat_minor": 5
}
